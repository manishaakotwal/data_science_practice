{
 "cells": [
  {
   "cell_type": "code",
   "execution_count": 2,
   "id": "ecc893b3-1b3d-42a9-8557-8ca51658bf84",
   "metadata": {},
   "outputs": [],
   "source": [
    "#numpy\n",
    "import numpy as np"
   ]
  },
  {
   "cell_type": "code",
   "execution_count": 4,
   "id": "74bdffff-c76c-4a0a-8c37-89c2f07a9467",
   "metadata": {},
   "outputs": [
    {
     "data": {
      "text/plain": [
       "1"
      ]
     },
     "execution_count": 4,
     "metadata": {},
     "output_type": "execute_result"
    }
   ],
   "source": [
    "# creating array\n",
    "array_1d = np.array([1,2,3,4,5])\n",
    "array_1d.dtype\n",
    "array_1d.ndim"
   ]
  },
  {
   "cell_type": "code",
   "execution_count": 5,
   "id": "0272ad76-91a7-4879-ae7e-48c8536fc87c",
   "metadata": {},
   "outputs": [
    {
     "data": {
      "text/plain": [
       "2"
      ]
     },
     "execution_count": 5,
     "metadata": {},
     "output_type": "execute_result"
    }
   ],
   "source": [
    "array_2d = np.array([[1,2,3,4,5],[1,2,3,4,5]])\n",
    "array_2d.dtype\n",
    "array_2d.ndim"
   ]
  },
  {
   "cell_type": "code",
   "execution_count": 23,
   "id": "c01e7ca9-c73f-414b-9d70-7a0d5f3d868b",
   "metadata": {},
   "outputs": [
    {
     "data": {
      "text/plain": [
       "array([[[1, 2, 3, 4, 5],\n",
       "        [0, 9, 8, 7, 6]],\n",
       "\n",
       "       [[1, 2, 3, 4, 5],\n",
       "        [0, 9, 8, 7, 6]]])"
      ]
     },
     "execution_count": 23,
     "metadata": {},
     "output_type": "execute_result"
    }
   ],
   "source": [
    "array_3d = np.array([[[1,2,3,4,5],[0,9,8,7,6]],[[1,2,3,4,5],[0,9,8,7,6]]])\n",
    "array_3d.dtype\n",
    "array_3d.ndim\n",
    "# array_3d[1,1,2] # ---> 8\n",
    "array_3d"
   ]
  },
  {
   "cell_type": "code",
   "execution_count": 16,
   "id": "fa08532f-ac70-4a75-b677-a470d9def645",
   "metadata": {},
   "outputs": [
    {
     "data": {
      "text/plain": [
       "array([[[1, 2, 3],\n",
       "        [4, 5, 6],\n",
       "        [7, 8, 9],\n",
       "        [8, 7, 6],\n",
       "        [4, 3, 2],\n",
       "        [3, 2, 1]]])"
      ]
     },
     "execution_count": 16,
     "metadata": {},
     "output_type": "execute_result"
    }
   ],
   "source": [
    "array1_3d = np.array([[[1,2,3],[4,5,6],[7,8,9],[8,7,6],[4,3,2],[3,2,1]]])\n",
    "array1_3d.ndim\n",
    "array1_3d[0,3,0]\n",
    "array1_3d"
   ]
  },
  {
   "cell_type": "code",
   "execution_count": 33,
   "id": "f99b03eb-9e5d-4820-af65-f088c7aa2568",
   "metadata": {},
   "outputs": [
    {
     "data": {
      "text/plain": [
       "2"
      ]
     },
     "execution_count": 33,
     "metadata": {},
     "output_type": "execute_result"
    }
   ],
   "source": [
    "array_0d = np.array([1,2,3,4], ndmin = 2)\n",
    "array_0d.ndim\n",
    "# array_0d"
   ]
  },
  {
   "cell_type": "code",
   "execution_count": 34,
   "id": "a89df364-6509-4ccf-aa89-87b0efa2de19",
   "metadata": {},
   "outputs": [
    {
     "data": {
      "text/plain": [
       "array([[1, 2, 3]])"
      ]
     },
     "execution_count": 34,
     "metadata": {},
     "output_type": "execute_result"
    }
   ],
   "source": [
    "np.array([1, 2, 3], ndmin=2)"
   ]
  },
  {
   "cell_type": "code",
   "execution_count": 36,
   "id": "65303756-e388-46ff-a5dc-c88450d269d4",
   "metadata": {},
   "outputs": [],
   "source": [
    "# import matplotlib.pyplot as plt\n",
    "\n",
    "# array_3d = np.array([[[1, 2, 3], \n",
    "#                       [4, 5, 6]], \n",
    "\n",
    "#                      [[7, 8, 9], \n",
    "#                       [10, 11, 12]],\n",
    "\n",
    "#                      [[13, 14, 15], \n",
    "#                       [16, 17, 18]]])\n",
    "# # Plot each 2D slice of the 3D array as a heatmap\n",
    "# for i, slice_2d in enumerate(array_3d):\n",
    "#     plt.figure()\n",
    "#     plt.imshow(slice_2d, cmap='viridis', aspect='auto')\n",
    "#     plt.title(f\"Slice {i+1}\")\n",
    "#     plt.colorbar()\n",
    "#     plt.show()\n"
   ]
  },
  {
   "cell_type": "code",
   "execution_count": 40,
   "id": "d51211fc-b2bc-48e9-9165-d331e73c925c",
   "metadata": {},
   "outputs": [
    {
     "data": {
      "text/plain": [
       "(array([[0., 0., 0., 0.],\n",
       "        [0., 0., 0., 0.],\n",
       "        [0., 0., 0., 0.]]),\n",
       " array([[1., 1., 1.],\n",
       "        [1., 1., 1.]]),\n",
       " array([[1., 0., 0.],\n",
       "        [0., 1., 0.],\n",
       "        [0., 0., 1.]]),\n",
       " array([[511.77444444, 320.90222222],\n",
       "        [529.39944444, 334.90222222]]),\n",
       " array([0.  , 0.25, 0.5 , 0.75, 1.  ]),\n",
       " array([[7, 7],\n",
       "        [7, 7]]),\n",
       " array([0, 2, 4, 6, 8]),\n",
       " array([[0, 5, 5],\n",
       "        [4, 7, 9]]),\n",
       " array([1, 2, 3, 1, 2, 3]))"
      ]
     },
     "execution_count": 40,
     "metadata": {},
     "output_type": "execute_result"
    }
   ],
   "source": [
    "# creating array\n",
    "# - list, dictionary\n",
    "# - zeros\n",
    "# - ones\n",
    "# - empty\n",
    "# - linspace\n",
    "# - full\n",
    "# - arange\n",
    "# - random.randint\n",
    "# - tile\n",
    "\n",
    "zeros_arr = np.zeros((3,4))\n",
    "ones_arr = np.ones((2,3))\n",
    "eye_arr = np.eye(3)\n",
    "empty_arr = np.empty((2,2))\n",
    "linspace_arr= np.linspace(0,1,5)\n",
    "full_arr = np.full((2,2),7)\n",
    "arange_arr = np.arange(0,10,2)\n",
    "random_arr = np.random.randint(0,10, (2,3))\n",
    "tile_arr = np.tile([1,2,3], 2)\n",
    "zeros_arr, ones_arr, eye_arr, empty_arr, linspace_arr, full_arr,  arange_arr, random_arr, tile_arr"
   ]
  },
  {
   "cell_type": "code",
   "execution_count": 42,
   "id": "cd31cf5c-9457-4929-bbee-d5ced3ad2575",
   "metadata": {},
   "outputs": [
    {
     "data": {
      "text/plain": [
       "array([5, 7, 9])"
      ]
     },
     "execution_count": 42,
     "metadata": {},
     "output_type": "execute_result"
    }
   ],
   "source": [
    "\n",
    "a = np.array([1, 2, 3])\n",
    "b = np.array([4, 5, 6])\n",
    "result = a + b  # array([5, 7, 9])\n",
    "result"
   ]
  },
  {
   "cell_type": "code",
   "execution_count": 44,
   "id": "19f48922-e276-4f57-afcb-dbfd48766be4",
   "metadata": {},
   "outputs": [
    {
     "data": {
      "text/plain": [
       "array([-3, -3, -3])"
      ]
     },
     "execution_count": 44,
     "metadata": {},
     "output_type": "execute_result"
    }
   ],
   "source": [
    "result = a - b  # array([-3, -3, -3])\n",
    "result"
   ]
  },
  {
   "cell_type": "code",
   "execution_count": 45,
   "id": "72841ab8-67da-4493-96b6-ec7f846a3930",
   "metadata": {},
   "outputs": [
    {
     "data": {
      "text/plain": [
       "array([ 4, 10, 18])"
      ]
     },
     "execution_count": 45,
     "metadata": {},
     "output_type": "execute_result"
    }
   ],
   "source": [
    "result = a * b  # array([4, 10, 18])\n",
    "result                          "
   ]
  },
  {
   "cell_type": "code",
   "execution_count": 46,
   "id": "9b54478e-28d5-49a1-8fea-1c67d4eb33fe",
   "metadata": {},
   "outputs": [
    {
     "data": {
      "text/plain": [
       "array([0.25, 0.4 , 0.5 ])"
      ]
     },
     "execution_count": 46,
     "metadata": {},
     "output_type": "execute_result"
    }
   ],
   "source": [
    "result = a / b  # array([0.25, 0.4, 0.5])\n",
    "result"
   ]
  },
  {
   "cell_type": "code",
   "execution_count": 47,
   "id": "bbf9df9e-143f-4aba-8f2b-2b7c40afa56c",
   "metadata": {},
   "outputs": [
    {
     "data": {
      "text/plain": [
       "array([6, 7, 8])"
      ]
     },
     "execution_count": 47,
     "metadata": {},
     "output_type": "execute_result"
    }
   ],
   "source": [
    "result = a + 5  # array([6, 7, 8])\n",
    "result"
   ]
  },
  {
   "cell_type": "code",
   "execution_count": 49,
   "id": "8a0af5e7-2182-48a4-8e35-1c9a45705597",
   "metadata": {},
   "outputs": [
    {
     "data": {
      "text/plain": [
       "2.0"
      ]
     },
     "execution_count": 49,
     "metadata": {},
     "output_type": "execute_result"
    }
   ],
   "source": [
    "mean = np.mean(a)  # 2.0\n",
    "mean"
   ]
  },
  {
   "cell_type": "code",
   "execution_count": 50,
   "id": "78291efa-02ea-4542-a0c2-16a23417c3d2",
   "metadata": {},
   "outputs": [
    {
     "data": {
      "text/plain": [
       "(3, 1)"
      ]
     },
     "execution_count": 50,
     "metadata": {},
     "output_type": "execute_result"
    }
   ],
   "source": [
    "max_value = np.max(a)  # 3\n",
    "min_value = np.min(a)  # 1\n",
    "max_value ,min_value"
   ]
  },
  {
   "cell_type": "code",
   "execution_count": 51,
   "id": "1df1e0bb-8555-466d-8c9a-bd3c1e9cb6b2",
   "metadata": {},
   "outputs": [
    {
     "data": {
      "text/plain": [
       "array([[1, 2, 3],\n",
       "       [4, 5, 6]])"
      ]
     },
     "execution_count": 51,
     "metadata": {},
     "output_type": "execute_result"
    }
   ],
   "source": [
    "# Reshaping and Modifying Operations\n",
    "array_2d = np.array([1, 2, 3, 4, 5, 6]).reshape(2, 3)\n",
    "array_2d"
   ]
  },
  {
   "cell_type": "code",
   "execution_count": 52,
   "id": "f69fadf3-8f27-46a2-a329-d0d0786f07da",
   "metadata": {},
   "outputs": [
    {
     "data": {
      "text/plain": [
       "array([1, 2, 3, 4, 5, 6])"
      ]
     },
     "execution_count": 52,
     "metadata": {},
     "output_type": "execute_result"
    }
   ],
   "source": [
    "flattened = array_2d.flatten()  # array([1, 2, 3, 4, 5, 6])\n",
    "flattened"
   ]
  },
  {
   "cell_type": "code",
   "execution_count": 53,
   "id": "b1570c7c-3619-4ab4-97c9-047ced98e8d6",
   "metadata": {},
   "outputs": [
    {
     "data": {
      "text/plain": [
       "array([[1, 4],\n",
       "       [2, 5],\n",
       "       [3, 6]])"
      ]
     },
     "execution_count": 53,
     "metadata": {},
     "output_type": "execute_result"
    }
   ],
   "source": [
    "transposed = array_2d.T  # array([[1, 4], [2, 5], [3, 6]])\n",
    "transposed"
   ]
  },
  {
   "cell_type": "code",
   "execution_count": 54,
   "id": "11ca510a-91fa-4808-9da1-340d87a343a0",
   "metadata": {},
   "outputs": [
    {
     "data": {
      "text/plain": [
       "array([1, 2, 3, 4, 5, 6])"
      ]
     },
     "execution_count": 54,
     "metadata": {},
     "output_type": "execute_result"
    }
   ],
   "source": [
    "concatenated = np.concatenate((a, b))  # array([1, 2, 3, 4, 5, 6])\n",
    "concatenated"
   ]
  },
  {
   "cell_type": "code",
   "execution_count": 60,
   "id": "3f09e7e7-6051-4810-a55b-46695cc5131f",
   "metadata": {},
   "outputs": [
    {
     "data": {
      "text/plain": [
       "(array([[1, 2, 3],\n",
       "        [4, 5, 6]]),\n",
       " array([1, 2, 3, 4, 5, 6]),\n",
       " array([[[1, 4],\n",
       "         [2, 5],\n",
       "         [3, 6]]]))"
      ]
     },
     "execution_count": 60,
     "metadata": {},
     "output_type": "execute_result"
    }
   ],
   "source": [
    "# stacking\n",
    "vstacked = np.vstack((a, b))  # Stack arrays vertically\n",
    "hstacked = np.hstack((a, b))\n",
    "dstacked = np.dstack((a, b))\n",
    "vstacked, hstacked, dstacked"
   ]
  },
  {
   "cell_type": "code",
   "execution_count": null,
   "id": "206500d3-7bfb-455c-8b9c-27acec6e5794",
   "metadata": {},
   "outputs": [],
   "source": []
  }
 ],
 "metadata": {
  "kernelspec": {
   "display_name": "Python 3 (ipykernel)",
   "language": "python",
   "name": "python3"
  },
  "language_info": {
   "codemirror_mode": {
    "name": "ipython",
    "version": 3
   },
   "file_extension": ".py",
   "mimetype": "text/x-python",
   "name": "python",
   "nbconvert_exporter": "python",
   "pygments_lexer": "ipython3",
   "version": "3.8.10"
  }
 },
 "nbformat": 4,
 "nbformat_minor": 5
}
