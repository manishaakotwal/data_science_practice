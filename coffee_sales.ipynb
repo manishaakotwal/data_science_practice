{
 "cells": [
  {
   "cell_type": "code",
   "execution_count": 1,
   "id": "32254fb3-2f8f-481e-8878-7562998fdfa1",
   "metadata": {},
   "outputs": [],
   "source": [
    "import pandas as pd\n",
    "import numpy as np\n",
    "\n",
    "data = pd.read_csv('coffee sales.csv')"
   ]
  },
  {
   "cell_type": "code",
   "execution_count": 45,
   "id": "d245fcc6-3318-42bc-b4a8-5bbd7afc9a82",
   "metadata": {},
   "outputs": [],
   "source": [
    "df = data.copy()"
   ]
  },
  {
   "cell_type": "code",
   "execution_count": 3,
   "id": "e25afac1-ecf9-4050-b38f-5824be414496",
   "metadata": {},
   "outputs": [
    {
     "data": {
      "text/html": [
       "<div>\n",
       "<style scoped>\n",
       "    .dataframe tbody tr th:only-of-type {\n",
       "        vertical-align: middle;\n",
       "    }\n",
       "\n",
       "    .dataframe tbody tr th {\n",
       "        vertical-align: top;\n",
       "    }\n",
       "\n",
       "    .dataframe thead th {\n",
       "        text-align: right;\n",
       "    }\n",
       "</style>\n",
       "<table border=\"1\" class=\"dataframe\">\n",
       "  <thead>\n",
       "    <tr style=\"text-align: right;\">\n",
       "      <th></th>\n",
       "      <th>date</th>\n",
       "      <th>datetime</th>\n",
       "      <th>cash_type</th>\n",
       "      <th>card</th>\n",
       "      <th>money</th>\n",
       "      <th>coffee_name</th>\n",
       "    </tr>\n",
       "  </thead>\n",
       "  <tbody>\n",
       "    <tr>\n",
       "      <th>0</th>\n",
       "      <td>2024-03-01</td>\n",
       "      <td>2024-03-01 10:15:50.520</td>\n",
       "      <td>card</td>\n",
       "      <td>ANON-0000-0000-0001</td>\n",
       "      <td>38.7</td>\n",
       "      <td>Latte</td>\n",
       "    </tr>\n",
       "    <tr>\n",
       "      <th>1</th>\n",
       "      <td>2024-03-01</td>\n",
       "      <td>2024-03-01 12:19:22.539</td>\n",
       "      <td>card</td>\n",
       "      <td>ANON-0000-0000-0002</td>\n",
       "      <td>38.7</td>\n",
       "      <td>Hot Chocolate</td>\n",
       "    </tr>\n",
       "    <tr>\n",
       "      <th>2</th>\n",
       "      <td>2024-03-01</td>\n",
       "      <td>2024-03-01 12:20:18.089</td>\n",
       "      <td>card</td>\n",
       "      <td>ANON-0000-0000-0002</td>\n",
       "      <td>38.7</td>\n",
       "      <td>Hot Chocolate</td>\n",
       "    </tr>\n",
       "    <tr>\n",
       "      <th>3</th>\n",
       "      <td>2024-03-01</td>\n",
       "      <td>2024-03-01 13:46:33.006</td>\n",
       "      <td>card</td>\n",
       "      <td>ANON-0000-0000-0003</td>\n",
       "      <td>28.9</td>\n",
       "      <td>Americano</td>\n",
       "    </tr>\n",
       "    <tr>\n",
       "      <th>4</th>\n",
       "      <td>2024-03-01</td>\n",
       "      <td>2024-03-01 13:48:14.626</td>\n",
       "      <td>card</td>\n",
       "      <td>ANON-0000-0000-0004</td>\n",
       "      <td>38.7</td>\n",
       "      <td>Latte</td>\n",
       "    </tr>\n",
       "    <tr>\n",
       "      <th>5</th>\n",
       "      <td>2024-03-01</td>\n",
       "      <td>2024-03-01 15:39:47.726</td>\n",
       "      <td>card</td>\n",
       "      <td>ANON-0000-0000-0005</td>\n",
       "      <td>33.8</td>\n",
       "      <td>Americano with Milk</td>\n",
       "    </tr>\n",
       "    <tr>\n",
       "      <th>6</th>\n",
       "      <td>2024-03-01</td>\n",
       "      <td>2024-03-01 16:19:02.756</td>\n",
       "      <td>card</td>\n",
       "      <td>ANON-0000-0000-0006</td>\n",
       "      <td>38.7</td>\n",
       "      <td>Hot Chocolate</td>\n",
       "    </tr>\n",
       "  </tbody>\n",
       "</table>\n",
       "</div>"
      ],
      "text/plain": [
       "         date                 datetime cash_type                 card  money  \\\n",
       "0  2024-03-01  2024-03-01 10:15:50.520      card  ANON-0000-0000-0001   38.7   \n",
       "1  2024-03-01  2024-03-01 12:19:22.539      card  ANON-0000-0000-0002   38.7   \n",
       "2  2024-03-01  2024-03-01 12:20:18.089      card  ANON-0000-0000-0002   38.7   \n",
       "3  2024-03-01  2024-03-01 13:46:33.006      card  ANON-0000-0000-0003   28.9   \n",
       "4  2024-03-01  2024-03-01 13:48:14.626      card  ANON-0000-0000-0004   38.7   \n",
       "5  2024-03-01  2024-03-01 15:39:47.726      card  ANON-0000-0000-0005   33.8   \n",
       "6  2024-03-01  2024-03-01 16:19:02.756      card  ANON-0000-0000-0006   38.7   \n",
       "\n",
       "           coffee_name  \n",
       "0                Latte  \n",
       "1        Hot Chocolate  \n",
       "2        Hot Chocolate  \n",
       "3            Americano  \n",
       "4                Latte  \n",
       "5  Americano with Milk  \n",
       "6        Hot Chocolate  "
      ]
     },
     "execution_count": 3,
     "metadata": {},
     "output_type": "execute_result"
    }
   ],
   "source": [
    "df.head(7)"
   ]
  },
  {
   "cell_type": "code",
   "execution_count": 4,
   "id": "23d25917-ea59-4bc8-a9c3-cfc5c109606d",
   "metadata": {},
   "outputs": [
    {
     "data": {
      "text/html": [
       "<div>\n",
       "<style scoped>\n",
       "    .dataframe tbody tr th:only-of-type {\n",
       "        vertical-align: middle;\n",
       "    }\n",
       "\n",
       "    .dataframe tbody tr th {\n",
       "        vertical-align: top;\n",
       "    }\n",
       "\n",
       "    .dataframe thead th {\n",
       "        text-align: right;\n",
       "    }\n",
       "</style>\n",
       "<table border=\"1\" class=\"dataframe\">\n",
       "  <thead>\n",
       "    <tr style=\"text-align: right;\">\n",
       "      <th></th>\n",
       "      <th>date</th>\n",
       "      <th>datetime</th>\n",
       "      <th>cash_type</th>\n",
       "      <th>card</th>\n",
       "      <th>money</th>\n",
       "      <th>coffee_name</th>\n",
       "    </tr>\n",
       "  </thead>\n",
       "  <tbody>\n",
       "    <tr>\n",
       "      <th>1126</th>\n",
       "      <td>2024-07-31</td>\n",
       "      <td>2024-07-31 20:51:10.383</td>\n",
       "      <td>card</td>\n",
       "      <td>ANON-0000-0000-0443</td>\n",
       "      <td>32.82</td>\n",
       "      <td>Latte</td>\n",
       "    </tr>\n",
       "    <tr>\n",
       "      <th>1127</th>\n",
       "      <td>2024-07-31</td>\n",
       "      <td>2024-07-31 20:52:14.802</td>\n",
       "      <td>card</td>\n",
       "      <td>ANON-0000-0000-0153</td>\n",
       "      <td>32.82</td>\n",
       "      <td>Cappuccino</td>\n",
       "    </tr>\n",
       "    <tr>\n",
       "      <th>1128</th>\n",
       "      <td>2024-07-31</td>\n",
       "      <td>2024-07-31 20:53:35.077</td>\n",
       "      <td>card</td>\n",
       "      <td>ANON-0000-0000-0443</td>\n",
       "      <td>23.02</td>\n",
       "      <td>Cortado</td>\n",
       "    </tr>\n",
       "    <tr>\n",
       "      <th>1129</th>\n",
       "      <td>2024-07-31</td>\n",
       "      <td>2024-07-31 20:59:25.013</td>\n",
       "      <td>card</td>\n",
       "      <td>ANON-0000-0000-0040</td>\n",
       "      <td>27.92</td>\n",
       "      <td>Americano with Milk</td>\n",
       "    </tr>\n",
       "    <tr>\n",
       "      <th>1130</th>\n",
       "      <td>2024-07-31</td>\n",
       "      <td>2024-07-31 21:26:26.000</td>\n",
       "      <td>card</td>\n",
       "      <td>ANON-0000-0000-0444</td>\n",
       "      <td>32.82</td>\n",
       "      <td>Latte</td>\n",
       "    </tr>\n",
       "    <tr>\n",
       "      <th>1131</th>\n",
       "      <td>2024-07-31</td>\n",
       "      <td>2024-07-31 21:54:11.824</td>\n",
       "      <td>card</td>\n",
       "      <td>ANON-0000-0000-0445</td>\n",
       "      <td>32.82</td>\n",
       "      <td>Latte</td>\n",
       "    </tr>\n",
       "    <tr>\n",
       "      <th>1132</th>\n",
       "      <td>2024-07-31</td>\n",
       "      <td>2024-07-31 21:55:16.570</td>\n",
       "      <td>card</td>\n",
       "      <td>ANON-0000-0000-0446</td>\n",
       "      <td>32.82</td>\n",
       "      <td>Latte</td>\n",
       "    </tr>\n",
       "  </tbody>\n",
       "</table>\n",
       "</div>"
      ],
      "text/plain": [
       "            date                 datetime cash_type                 card  \\\n",
       "1126  2024-07-31  2024-07-31 20:51:10.383      card  ANON-0000-0000-0443   \n",
       "1127  2024-07-31  2024-07-31 20:52:14.802      card  ANON-0000-0000-0153   \n",
       "1128  2024-07-31  2024-07-31 20:53:35.077      card  ANON-0000-0000-0443   \n",
       "1129  2024-07-31  2024-07-31 20:59:25.013      card  ANON-0000-0000-0040   \n",
       "1130  2024-07-31  2024-07-31 21:26:26.000      card  ANON-0000-0000-0444   \n",
       "1131  2024-07-31  2024-07-31 21:54:11.824      card  ANON-0000-0000-0445   \n",
       "1132  2024-07-31  2024-07-31 21:55:16.570      card  ANON-0000-0000-0446   \n",
       "\n",
       "      money          coffee_name  \n",
       "1126  32.82                Latte  \n",
       "1127  32.82           Cappuccino  \n",
       "1128  23.02              Cortado  \n",
       "1129  27.92  Americano with Milk  \n",
       "1130  32.82                Latte  \n",
       "1131  32.82                Latte  \n",
       "1132  32.82                Latte  "
      ]
     },
     "execution_count": 4,
     "metadata": {},
     "output_type": "execute_result"
    }
   ],
   "source": [
    "# last 7 row\n",
    "df.tail(7)"
   ]
  },
  {
   "cell_type": "code",
   "execution_count": 5,
   "id": "1d86a316-e436-46b9-81d9-aa1a49b166d7",
   "metadata": {},
   "outputs": [
    {
     "data": {
      "text/html": [
       "<div>\n",
       "<style scoped>\n",
       "    .dataframe tbody tr th:only-of-type {\n",
       "        vertical-align: middle;\n",
       "    }\n",
       "\n",
       "    .dataframe tbody tr th {\n",
       "        vertical-align: top;\n",
       "    }\n",
       "\n",
       "    .dataframe thead th {\n",
       "        text-align: right;\n",
       "    }\n",
       "</style>\n",
       "<table border=\"1\" class=\"dataframe\">\n",
       "  <thead>\n",
       "    <tr style=\"text-align: right;\">\n",
       "      <th></th>\n",
       "      <th>money</th>\n",
       "    </tr>\n",
       "  </thead>\n",
       "  <tbody>\n",
       "    <tr>\n",
       "      <th>count</th>\n",
       "      <td>1133.000000</td>\n",
       "    </tr>\n",
       "    <tr>\n",
       "      <th>mean</th>\n",
       "      <td>33.105808</td>\n",
       "    </tr>\n",
       "    <tr>\n",
       "      <th>std</th>\n",
       "      <td>5.035366</td>\n",
       "    </tr>\n",
       "    <tr>\n",
       "      <th>min</th>\n",
       "      <td>18.120000</td>\n",
       "    </tr>\n",
       "    <tr>\n",
       "      <th>25%</th>\n",
       "      <td>28.900000</td>\n",
       "    </tr>\n",
       "    <tr>\n",
       "      <th>50%</th>\n",
       "      <td>32.820000</td>\n",
       "    </tr>\n",
       "    <tr>\n",
       "      <th>75%</th>\n",
       "      <td>37.720000</td>\n",
       "    </tr>\n",
       "    <tr>\n",
       "      <th>max</th>\n",
       "      <td>40.000000</td>\n",
       "    </tr>\n",
       "  </tbody>\n",
       "</table>\n",
       "</div>"
      ],
      "text/plain": [
       "             money\n",
       "count  1133.000000\n",
       "mean     33.105808\n",
       "std       5.035366\n",
       "min      18.120000\n",
       "25%      28.900000\n",
       "50%      32.820000\n",
       "75%      37.720000\n",
       "max      40.000000"
      ]
     },
     "execution_count": 5,
     "metadata": {},
     "output_type": "execute_result"
    }
   ],
   "source": [
    "# descriptive statistics\n",
    "df.describe()"
   ]
  },
  {
   "cell_type": "code",
   "execution_count": 6,
   "id": "56dc7bb9-72bf-41f2-a566-0d9de94b05b4",
   "metadata": {},
   "outputs": [
    {
     "name": "stdout",
     "output_type": "stream",
     "text": [
      "<class 'pandas.core.frame.DataFrame'>\n",
      "RangeIndex: 1133 entries, 0 to 1132\n",
      "Data columns (total 6 columns):\n",
      " #   Column       Non-Null Count  Dtype  \n",
      "---  ------       --------------  -----  \n",
      " 0   date         1133 non-null   object \n",
      " 1   datetime     1133 non-null   object \n",
      " 2   cash_type    1133 non-null   object \n",
      " 3   card         1044 non-null   object \n",
      " 4   money        1133 non-null   float64\n",
      " 5   coffee_name  1133 non-null   object \n",
      "dtypes: float64(1), object(5)\n",
      "memory usage: 53.2+ KB\n"
     ]
    }
   ],
   "source": [
    "# consise summary\n",
    "df.info()"
   ]
  },
  {
   "cell_type": "code",
   "execution_count": 8,
   "id": "80fc13b6-a79b-4733-b964-3a955cd9d6be",
   "metadata": {},
   "outputs": [
    {
     "data": {
      "text/plain": [
       "(1133, 6)"
      ]
     },
     "execution_count": 8,
     "metadata": {},
     "output_type": "execute_result"
    }
   ],
   "source": [
    "# shape - define row,col in dataframe\n",
    "df.shape"
   ]
  },
  {
   "cell_type": "code",
   "execution_count": 10,
   "id": "b1d1e1d1-799b-428a-a418-94dddf24a129",
   "metadata": {},
   "outputs": [
    {
     "data": {
      "text/plain": [
       "6798"
      ]
     },
     "execution_count": 10,
     "metadata": {},
     "output_type": "execute_result"
    }
   ],
   "source": [
    "# size - total elements\n",
    "df.size"
   ]
  },
  {
   "cell_type": "code",
   "execution_count": 11,
   "id": "8951a9de-ab22-427d-afc4-0305e833c0a5",
   "metadata": {},
   "outputs": [
    {
     "data": {
      "text/plain": [
       "date            0\n",
       "datetime        0\n",
       "cash_type       0\n",
       "card           89\n",
       "money           0\n",
       "coffee_name     0\n",
       "dtype: int64"
      ]
     },
     "execution_count": 11,
     "metadata": {},
     "output_type": "execute_result"
    }
   ],
   "source": [
    "# check any null value\n",
    "df.isna().sum()"
   ]
  },
  {
   "cell_type": "code",
   "execution_count": 12,
   "id": "ecfc9051-09f9-4a18-a5b4-b2d6f0c392bb",
   "metadata": {},
   "outputs": [
    {
     "data": {
      "text/plain": [
       "date            object\n",
       "datetime        object\n",
       "cash_type       object\n",
       "card            object\n",
       "money          float64\n",
       "coffee_name     object\n",
       "dtype: object"
      ]
     },
     "execution_count": 12,
     "metadata": {},
     "output_type": "execute_result"
    }
   ],
   "source": [
    "# check datatypes\n",
    "df.dtypes"
   ]
  },
  {
   "cell_type": "code",
   "execution_count": 14,
   "id": "98d77ec6-3e0d-442f-9461-58a97f78cfa8",
   "metadata": {},
   "outputs": [
    {
     "data": {
      "text/plain": [
       "446"
      ]
     },
     "execution_count": 14,
     "metadata": {},
     "output_type": "execute_result"
    }
   ],
   "source": [
    "# check unique value in card column\n",
    "df['card'].nunique()"
   ]
  },
  {
   "cell_type": "code",
   "execution_count": 15,
   "id": "91715d4f-5288-4249-9037-50e982823d23",
   "metadata": {},
   "outputs": [
    {
     "data": {
      "text/plain": [
       "date            150\n",
       "datetime       1133\n",
       "cash_type         2\n",
       "card            446\n",
       "money            16\n",
       "coffee_name       8\n",
       "dtype: int64"
      ]
     },
     "execution_count": 15,
     "metadata": {},
     "output_type": "execute_result"
    }
   ],
   "source": [
    "# check in dataframe\n",
    "df.nunique()"
   ]
  },
  {
   "cell_type": "code",
   "execution_count": 20,
   "id": "7dead99e-68a3-4d1a-a5ff-27a21425c06c",
   "metadata": {},
   "outputs": [
    {
     "data": {
      "text/plain": [
       "Index(['date', 'datetime', 'cash_type', 'card', 'money', 'coffee_name'], dtype='object')"
      ]
     },
     "execution_count": 20,
     "metadata": {},
     "output_type": "execute_result"
    }
   ],
   "source": [
    "df.columns"
   ]
  },
  {
   "cell_type": "code",
   "execution_count": 23,
   "id": "0c1992f9-745d-4de8-91dd-9c981db7d50c",
   "metadata": {},
   "outputs": [
    {
     "data": {
      "text/plain": [
       "'Latte'"
      ]
     },
     "execution_count": 23,
     "metadata": {},
     "output_type": "execute_result"
    }
   ],
   "source": [
    "df.loc[0, 'coffee_name']  # label based indexing"
   ]
  },
  {
   "cell_type": "code",
   "execution_count": 26,
   "id": "283dcf7f-73db-4125-a1b2-3cbdf66adb42",
   "metadata": {},
   "outputs": [
    {
     "data": {
      "text/plain": [
       "'Latte'"
      ]
     },
     "execution_count": 26,
     "metadata": {},
     "output_type": "execute_result"
    }
   ],
   "source": [
    "df.iloc[0, 5]  # integer location base indexing"
   ]
  },
  {
   "cell_type": "code",
   "execution_count": 33,
   "id": "3c532af1-d65d-40b8-b387-9c606eb3b590",
   "metadata": {},
   "outputs": [
    {
     "data": {
      "text/plain": [
       "<bound method NDFrame.astype of 0       ANON-0000-0000-0001\n",
       "1       ANON-0000-0000-0002\n",
       "2       ANON-0000-0000-0002\n",
       "3       ANON-0000-0000-0003\n",
       "4       ANON-0000-0000-0004\n",
       "               ...         \n",
       "1128    ANON-0000-0000-0443\n",
       "1129    ANON-0000-0000-0040\n",
       "1130    ANON-0000-0000-0444\n",
       "1131    ANON-0000-0000-0445\n",
       "1132    ANON-0000-0000-0446\n",
       "Name: card, Length: 1133, dtype: object>"
      ]
     },
     "execution_count": 33,
     "metadata": {},
     "output_type": "execute_result"
    }
   ],
   "source": [
    "df['card'].astype"
   ]
  },
  {
   "cell_type": "code",
   "execution_count": 46,
   "id": "6d5da4da-e4fb-4c14-b478-b5c6e351f2f4",
   "metadata": {},
   "outputs": [],
   "source": [
    "# fill missing value\n",
    "df['card'] = df['card'].fillna('0')"
   ]
  },
  {
   "cell_type": "code",
   "execution_count": 47,
   "id": "bdaf8253-f878-42e5-a12d-8ceda2ff7257",
   "metadata": {},
   "outputs": [
    {
     "data": {
      "text/plain": [
       "0"
      ]
     },
     "execution_count": 47,
     "metadata": {},
     "output_type": "execute_result"
    }
   ],
   "source": [
    "df['card'].isna().sum()"
   ]
  },
  {
   "cell_type": "code",
   "execution_count": 50,
   "id": "6b03e344-e2df-4941-b3fa-ad2210bd8ad0",
   "metadata": {},
   "outputs": [
    {
     "data": {
      "text/plain": [
       "447"
      ]
     },
     "execution_count": 50,
     "metadata": {},
     "output_type": "execute_result"
    }
   ],
   "source": [
    "df['card'].nunique()"
   ]
  },
  {
   "cell_type": "markdown",
   "id": "c9e37228-471d-4888-8484-fbabba7a1223",
   "metadata": {},
   "source": [
    "## datetime"
   ]
  },
  {
   "cell_type": "code",
   "execution_count": 62,
   "id": "d36671ca-f627-40f2-8d13-ba9f1f59389f",
   "metadata": {},
   "outputs": [],
   "source": [
    "# retrieve date, time, month, week and create column of this\n",
    "\n",
    "df['datetime'] = pd.to_datetime(df['datetime'])\n",
    "df['time'] = df['datetime'].dt.time\n",
    "df['date'] = pd.to_datetime(df['date'])\n",
    "df['month'] = df['date'].dt.to_period('M')\n",
    "df['week'] = df['date'].dt.to_period('W')"
   ]
  },
  {
   "cell_type": "code",
   "execution_count": 63,
   "id": "fa658c6c-4453-4f40-9234-dc55a8a7d864",
   "metadata": {},
   "outputs": [
    {
     "data": {
      "text/html": [
       "<div>\n",
       "<style scoped>\n",
       "    .dataframe tbody tr th:only-of-type {\n",
       "        vertical-align: middle;\n",
       "    }\n",
       "\n",
       "    .dataframe tbody tr th {\n",
       "        vertical-align: top;\n",
       "    }\n",
       "\n",
       "    .dataframe thead th {\n",
       "        text-align: right;\n",
       "    }\n",
       "</style>\n",
       "<table border=\"1\" class=\"dataframe\">\n",
       "  <thead>\n",
       "    <tr style=\"text-align: right;\">\n",
       "      <th></th>\n",
       "      <th>date</th>\n",
       "      <th>datetime</th>\n",
       "      <th>cash_type</th>\n",
       "      <th>card</th>\n",
       "      <th>money</th>\n",
       "      <th>coffee_name</th>\n",
       "      <th>time</th>\n",
       "      <th>month</th>\n",
       "      <th>week</th>\n",
       "    </tr>\n",
       "  </thead>\n",
       "  <tbody>\n",
       "    <tr>\n",
       "      <th>0</th>\n",
       "      <td>2024-03-01</td>\n",
       "      <td>2024-03-01 10:15:50.520</td>\n",
       "      <td>card</td>\n",
       "      <td>ANON-0000-0000-0001</td>\n",
       "      <td>38.7</td>\n",
       "      <td>Latte</td>\n",
       "      <td>10:15:50.520000</td>\n",
       "      <td>2024-03</td>\n",
       "      <td>2024-02-26/2024-03-03</td>\n",
       "    </tr>\n",
       "    <tr>\n",
       "      <th>1</th>\n",
       "      <td>2024-03-01</td>\n",
       "      <td>2024-03-01 12:19:22.539</td>\n",
       "      <td>card</td>\n",
       "      <td>ANON-0000-0000-0002</td>\n",
       "      <td>38.7</td>\n",
       "      <td>Hot Chocolate</td>\n",
       "      <td>12:19:22.539000</td>\n",
       "      <td>2024-03</td>\n",
       "      <td>2024-02-26/2024-03-03</td>\n",
       "    </tr>\n",
       "    <tr>\n",
       "      <th>2</th>\n",
       "      <td>2024-03-01</td>\n",
       "      <td>2024-03-01 12:20:18.089</td>\n",
       "      <td>card</td>\n",
       "      <td>ANON-0000-0000-0002</td>\n",
       "      <td>38.7</td>\n",
       "      <td>Hot Chocolate</td>\n",
       "      <td>12:20:18.089000</td>\n",
       "      <td>2024-03</td>\n",
       "      <td>2024-02-26/2024-03-03</td>\n",
       "    </tr>\n",
       "    <tr>\n",
       "      <th>3</th>\n",
       "      <td>2024-03-01</td>\n",
       "      <td>2024-03-01 13:46:33.006</td>\n",
       "      <td>card</td>\n",
       "      <td>ANON-0000-0000-0003</td>\n",
       "      <td>28.9</td>\n",
       "      <td>Americano</td>\n",
       "      <td>13:46:33.006000</td>\n",
       "      <td>2024-03</td>\n",
       "      <td>2024-02-26/2024-03-03</td>\n",
       "    </tr>\n",
       "    <tr>\n",
       "      <th>4</th>\n",
       "      <td>2024-03-01</td>\n",
       "      <td>2024-03-01 13:48:14.626</td>\n",
       "      <td>card</td>\n",
       "      <td>ANON-0000-0000-0004</td>\n",
       "      <td>38.7</td>\n",
       "      <td>Latte</td>\n",
       "      <td>13:48:14.626000</td>\n",
       "      <td>2024-03</td>\n",
       "      <td>2024-02-26/2024-03-03</td>\n",
       "    </tr>\n",
       "  </tbody>\n",
       "</table>\n",
       "</div>"
      ],
      "text/plain": [
       "        date                datetime cash_type                 card  money  \\\n",
       "0 2024-03-01 2024-03-01 10:15:50.520      card  ANON-0000-0000-0001   38.7   \n",
       "1 2024-03-01 2024-03-01 12:19:22.539      card  ANON-0000-0000-0002   38.7   \n",
       "2 2024-03-01 2024-03-01 12:20:18.089      card  ANON-0000-0000-0002   38.7   \n",
       "3 2024-03-01 2024-03-01 13:46:33.006      card  ANON-0000-0000-0003   28.9   \n",
       "4 2024-03-01 2024-03-01 13:48:14.626      card  ANON-0000-0000-0004   38.7   \n",
       "\n",
       "     coffee_name             time    month                   week  \n",
       "0          Latte  10:15:50.520000  2024-03  2024-02-26/2024-03-03  \n",
       "1  Hot Chocolate  12:19:22.539000  2024-03  2024-02-26/2024-03-03  \n",
       "2  Hot Chocolate  12:20:18.089000  2024-03  2024-02-26/2024-03-03  \n",
       "3      Americano  13:46:33.006000  2024-03  2024-02-26/2024-03-03  \n",
       "4          Latte  13:48:14.626000  2024-03  2024-02-26/2024-03-03  "
      ]
     },
     "execution_count": 63,
     "metadata": {},
     "output_type": "execute_result"
    }
   ],
   "source": [
    "df.head()"
   ]
  },
  {
   "cell_type": "markdown",
   "id": "f61034ac-fa22-47ea-af21-b4b822ca68fa",
   "metadata": {},
   "source": [
    "## analyze and visualize money column"
   ]
  },
  {
   "cell_type": "code",
   "execution_count": 52,
   "id": "60c7aab6-9014-4d24-9cdd-f4b498a2f8e3",
   "metadata": {},
   "outputs": [
    {
     "data": {
      "text/plain": [
       "37508.880000000005"
      ]
     },
     "execution_count": 52,
     "metadata": {},
     "output_type": "execute_result"
    }
   ],
   "source": [
    "df['money'].sum()"
   ]
  },
  {
   "cell_type": "code",
   "execution_count": 53,
   "id": "0ddb66c5-7952-42e2-8674-6d48e9b2928f",
   "metadata": {},
   "outputs": [
    {
     "data": {
      "text/plain": [
       "1133"
      ]
     },
     "execution_count": 53,
     "metadata": {},
     "output_type": "execute_result"
    }
   ],
   "source": [
    "df['money'].count()"
   ]
  },
  {
   "cell_type": "code",
   "execution_count": 58,
   "id": "e9835c73-8f14-4b62-bdca-16af1881235c",
   "metadata": {},
   "outputs": [
    {
     "data": {
      "text/html": [
       "<div>\n",
       "<style scoped>\n",
       "    .dataframe tbody tr th:only-of-type {\n",
       "        vertical-align: middle;\n",
       "    }\n",
       "\n",
       "    .dataframe tbody tr th {\n",
       "        vertical-align: top;\n",
       "    }\n",
       "\n",
       "    .dataframe thead tr th {\n",
       "        text-align: left;\n",
       "    }\n",
       "\n",
       "    .dataframe thead tr:last-of-type th {\n",
       "        text-align: right;\n",
       "    }\n",
       "</style>\n",
       "<table border=\"1\" class=\"dataframe\">\n",
       "  <thead>\n",
       "    <tr>\n",
       "      <th></th>\n",
       "      <th colspan=\"2\" halign=\"left\">money</th>\n",
       "    </tr>\n",
       "    <tr>\n",
       "      <th></th>\n",
       "      <th>sum</th>\n",
       "      <th>count</th>\n",
       "    </tr>\n",
       "    <tr>\n",
       "      <th>coffee_name</th>\n",
       "      <th></th>\n",
       "      <th></th>\n",
       "    </tr>\n",
       "  </thead>\n",
       "  <tbody>\n",
       "    <tr>\n",
       "      <th>Americano</th>\n",
       "      <td>4644.54</td>\n",
       "      <td>169</td>\n",
       "    </tr>\n",
       "    <tr>\n",
       "      <th>Americano with Milk</th>\n",
       "      <td>8601.94</td>\n",
       "      <td>268</td>\n",
       "    </tr>\n",
       "    <tr>\n",
       "      <th>Cappuccino</th>\n",
       "      <td>7333.14</td>\n",
       "      <td>196</td>\n",
       "    </tr>\n",
       "    <tr>\n",
       "      <th>Cocoa</th>\n",
       "      <td>1295.94</td>\n",
       "      <td>35</td>\n",
       "    </tr>\n",
       "    <tr>\n",
       "      <th>Cortado</th>\n",
       "      <td>2745.08</td>\n",
       "      <td>99</td>\n",
       "    </tr>\n",
       "    <tr>\n",
       "      <th>Espresso</th>\n",
       "      <td>1100.62</td>\n",
       "      <td>49</td>\n",
       "    </tr>\n",
       "    <tr>\n",
       "      <th>Hot Chocolate</th>\n",
       "      <td>2778.48</td>\n",
       "      <td>74</td>\n",
       "    </tr>\n",
       "    <tr>\n",
       "      <th>Latte</th>\n",
       "      <td>9009.14</td>\n",
       "      <td>243</td>\n",
       "    </tr>\n",
       "  </tbody>\n",
       "</table>\n",
       "</div>"
      ],
      "text/plain": [
       "                       money      \n",
       "                         sum count\n",
       "coffee_name                       \n",
       "Americano            4644.54   169\n",
       "Americano with Milk  8601.94   268\n",
       "Cappuccino           7333.14   196\n",
       "Cocoa                1295.94    35\n",
       "Cortado              2745.08    99\n",
       "Espresso             1100.62    49\n",
       "Hot Chocolate        2778.48    74\n",
       "Latte                9009.14   243"
      ]
     },
     "execution_count": 58,
     "metadata": {},
     "output_type": "execute_result"
    }
   ],
   "source": [
    "# group by \n",
    "money_grpby = df.groupby('coffee_name').agg({'money':['sum', 'count']})\n",
    "money_grpby"
   ]
  },
  {
   "cell_type": "code",
   "execution_count": 57,
   "id": "0ab0b2ed-53f9-4e2c-a2a0-37dc66392172",
   "metadata": {},
   "outputs": [
    {
     "data": {
      "image/png": "[encoded data removed]",
      "text/plain": [
       "<Figure size 640x480 with 1 Axes>"
      ]
     },
     "metadata": {},
     "output_type": "display_data"
    }
   ],
   "source": [
    "## visualize\n",
    "import matplotlib.pyplot as plt\n",
    "import seaborn as sns\n",
    "\n",
    "plt.boxplot(df['money'])\n",
    "plt.show()"
   ]
  },
  {
   "cell_type": "code",
   "execution_count": 64,
   "id": "44148393-c139-4f85-8b99-fc1401e02d91",
   "metadata": {},
   "outputs": [
    {
     "data": {
      "text/html": [
       "<div>\n",
       "<style scoped>\n",
       "    .dataframe tbody tr th:only-of-type {\n",
       "        vertical-align: middle;\n",
       "    }\n",
       "\n",
       "    .dataframe tbody tr th {\n",
       "        vertical-align: top;\n",
       "    }\n",
       "\n",
       "    .dataframe thead tr th {\n",
       "        text-align: left;\n",
       "    }\n",
       "\n",
       "    .dataframe thead tr:last-of-type th {\n",
       "        text-align: right;\n",
       "    }\n",
       "</style>\n",
       "<table border=\"1\" class=\"dataframe\">\n",
       "  <thead>\n",
       "    <tr>\n",
       "      <th></th>\n",
       "      <th colspan=\"2\" halign=\"left\">money</th>\n",
       "    </tr>\n",
       "    <tr>\n",
       "      <th></th>\n",
       "      <th>sum</th>\n",
       "      <th>count</th>\n",
       "    </tr>\n",
       "    <tr>\n",
       "      <th>month</th>\n",
       "      <th></th>\n",
       "      <th></th>\n",
       "    </tr>\n",
       "  </thead>\n",
       "  <tbody>\n",
       "    <tr>\n",
       "      <th>2024-03</th>\n",
       "      <td>7050.20</td>\n",
       "      <td>206</td>\n",
       "    </tr>\n",
       "    <tr>\n",
       "      <th>2024-04</th>\n",
       "      <td>6720.56</td>\n",
       "      <td>196</td>\n",
       "    </tr>\n",
       "    <tr>\n",
       "      <th>2024-05</th>\n",
       "      <td>9063.42</td>\n",
       "      <td>267</td>\n",
       "    </tr>\n",
       "    <tr>\n",
       "      <th>2024-06</th>\n",
       "      <td>7758.76</td>\n",
       "      <td>227</td>\n",
       "    </tr>\n",
       "    <tr>\n",
       "      <th>2024-07</th>\n",
       "      <td>6915.94</td>\n",
       "      <td>237</td>\n",
       "    </tr>\n",
       "  </tbody>\n",
       "</table>\n",
       "</div>"
      ],
      "text/plain": [
       "           money      \n",
       "             sum count\n",
       "month                 \n",
       "2024-03  7050.20   206\n",
       "2024-04  6720.56   196\n",
       "2024-05  9063.42   267\n",
       "2024-06  7758.76   227\n",
       "2024-07  6915.94   237"
      ]
     },
     "execution_count": 64,
     "metadata": {},
     "output_type": "execute_result"
    }
   ],
   "source": [
    "month_grpby = df.groupby('month').agg({'money':['sum', 'count']})\n",
    "month_grpby"
   ]
  },
  {
   "cell_type": "code",
   "execution_count": 68,
   "id": "538b9787-9bca-4fae-bdf7-18bc36b76070",
   "metadata": {},
   "outputs": [
    {
     "data": {
      "text/html": [
       "<div>\n",
       "<style scoped>\n",
       "    .dataframe tbody tr th:only-of-type {\n",
       "        vertical-align: middle;\n",
       "    }\n",
       "\n",
       "    .dataframe tbody tr th {\n",
       "        vertical-align: top;\n",
       "    }\n",
       "\n",
       "    .dataframe thead th {\n",
       "        text-align: right;\n",
       "    }\n",
       "</style>\n",
       "<table border=\"1\" class=\"dataframe\">\n",
       "  <thead>\n",
       "    <tr style=\"text-align: right;\">\n",
       "      <th></th>\n",
       "      <th>month</th>\n",
       "      <th>money</th>\n",
       "      <th>cups</th>\n",
       "    </tr>\n",
       "  </thead>\n",
       "  <tbody>\n",
       "    <tr>\n",
       "      <th>0</th>\n",
       "      <td>2024-03</td>\n",
       "      <td>7050.20</td>\n",
       "      <td>206</td>\n",
       "    </tr>\n",
       "    <tr>\n",
       "      <th>1</th>\n",
       "      <td>2024-04</td>\n",
       "      <td>6720.56</td>\n",
       "      <td>196</td>\n",
       "    </tr>\n",
       "    <tr>\n",
       "      <th>2</th>\n",
       "      <td>2024-05</td>\n",
       "      <td>9063.42</td>\n",
       "      <td>267</td>\n",
       "    </tr>\n",
       "    <tr>\n",
       "      <th>3</th>\n",
       "      <td>2024-06</td>\n",
       "      <td>7758.76</td>\n",
       "      <td>227</td>\n",
       "    </tr>\n",
       "    <tr>\n",
       "      <th>4</th>\n",
       "      <td>2024-07</td>\n",
       "      <td>6915.94</td>\n",
       "      <td>237</td>\n",
       "    </tr>\n",
       "  </tbody>\n",
       "</table>\n",
       "</div>"
      ],
      "text/plain": [
       "     month    money  cups\n",
       "0  2024-03  7050.20   206\n",
       "1  2024-04  6720.56   196\n",
       "2  2024-05  9063.42   267\n",
       "3  2024-06  7758.76   227\n",
       "4  2024-07  6915.94   237"
      ]
     },
     "execution_count": 68,
     "metadata": {},
     "output_type": "execute_result"
    }
   ],
   "source": [
    "# barplot- x = money, y - month \n",
    "# df_col = df['money', 'month',]\n",
    "df_by_month = df.groupby(\"month\").agg({\"money\": [\"sum\", \"count\"]}).reset_index()\n",
    "df_by_month.columns = [\"month\", \"money\", \"cups\"]  # count --> no_of cups\n",
    "df_by_month\n"
   ]
  },
  {
   "cell_type": "code",
   "execution_count": 70,
   "id": "a4cb59c0-9f2d-4577-af81-74e81730a1cb",
   "metadata": {},
   "outputs": [
    {
     "data": {
      "image/png": "[encoded data removed]",
      "text/plain": [
       "<Figure size 1400x400 with 1 Axes>"
      ]
     },
     "metadata": {},
     "output_type": "display_data"
    }
   ],
   "source": [
    "plt.figure(figsize=(14, 4))\n",
    "sns.barplot(df_by_month, y=\"money\", x=\"month\", color=\"#bd9e8a\")\n",
    "plt.grid()"
   ]
  },
  {
   "cell_type": "code",
   "execution_count": 72,
   "id": "8e7ae5ca-dd94-41f8-ac9b-d13d67b04daa",
   "metadata": {},
   "outputs": [
    {
     "data": {
      "text/html": [
       "<div>\n",
       "<style scoped>\n",
       "    .dataframe tbody tr th:only-of-type {\n",
       "        vertical-align: middle;\n",
       "    }\n",
       "\n",
       "    .dataframe tbody tr th {\n",
       "        vertical-align: top;\n",
       "    }\n",
       "\n",
       "    .dataframe thead th {\n",
       "        text-align: right;\n",
       "    }\n",
       "</style>\n",
       "<table border=\"1\" class=\"dataframe\">\n",
       "  <thead>\n",
       "    <tr style=\"text-align: right;\">\n",
       "      <th></th>\n",
       "      <th>week</th>\n",
       "      <th>money</th>\n",
       "      <th>cups</th>\n",
       "    </tr>\n",
       "  </thead>\n",
       "  <tbody>\n",
       "    <tr>\n",
       "      <th>0</th>\n",
       "      <td>2024-02-26/2024-03-03</td>\n",
       "      <td>973.50</td>\n",
       "      <td>28</td>\n",
       "    </tr>\n",
       "    <tr>\n",
       "      <th>1</th>\n",
       "      <td>2024-03-04/2024-03-10</td>\n",
       "      <td>1840.50</td>\n",
       "      <td>53</td>\n",
       "    </tr>\n",
       "    <tr>\n",
       "      <th>2</th>\n",
       "      <td>2024-03-11/2024-03-17</td>\n",
       "      <td>1516.30</td>\n",
       "      <td>47</td>\n",
       "    </tr>\n",
       "    <tr>\n",
       "      <th>3</th>\n",
       "      <td>2024-03-18/2024-03-24</td>\n",
       "      <td>1307.80</td>\n",
       "      <td>38</td>\n",
       "    </tr>\n",
       "    <tr>\n",
       "      <th>4</th>\n",
       "      <td>2024-03-25/2024-03-31</td>\n",
       "      <td>1412.10</td>\n",
       "      <td>40</td>\n",
       "    </tr>\n",
       "    <tr>\n",
       "      <th>5</th>\n",
       "      <td>2024-04-01/2024-04-07</td>\n",
       "      <td>1434.50</td>\n",
       "      <td>42</td>\n",
       "    </tr>\n",
       "    <tr>\n",
       "      <th>6</th>\n",
       "      <td>2024-04-08/2024-04-14</td>\n",
       "      <td>1666.00</td>\n",
       "      <td>48</td>\n",
       "    </tr>\n",
       "    <tr>\n",
       "      <th>7</th>\n",
       "      <td>2024-04-15/2024-04-21</td>\n",
       "      <td>1838.84</td>\n",
       "      <td>53</td>\n",
       "    </tr>\n",
       "    <tr>\n",
       "      <th>8</th>\n",
       "      <td>2024-04-22/2024-04-28</td>\n",
       "      <td>1251.20</td>\n",
       "      <td>37</td>\n",
       "    </tr>\n",
       "    <tr>\n",
       "      <th>9</th>\n",
       "      <td>2024-04-29/2024-05-05</td>\n",
       "      <td>890.18</td>\n",
       "      <td>26</td>\n",
       "    </tr>\n",
       "    <tr>\n",
       "      <th>10</th>\n",
       "      <td>2024-05-06/2024-05-12</td>\n",
       "      <td>1705.80</td>\n",
       "      <td>50</td>\n",
       "    </tr>\n",
       "    <tr>\n",
       "      <th>11</th>\n",
       "      <td>2024-05-13/2024-05-19</td>\n",
       "      <td>2180.26</td>\n",
       "      <td>66</td>\n",
       "    </tr>\n",
       "    <tr>\n",
       "      <th>12</th>\n",
       "      <td>2024-05-20/2024-05-26</td>\n",
       "      <td>2811.80</td>\n",
       "      <td>83</td>\n",
       "    </tr>\n",
       "    <tr>\n",
       "      <th>13</th>\n",
       "      <td>2024-05-27/2024-06-02</td>\n",
       "      <td>2605.00</td>\n",
       "      <td>75</td>\n",
       "    </tr>\n",
       "    <tr>\n",
       "      <th>14</th>\n",
       "      <td>2024-06-03/2024-06-09</td>\n",
       "      <td>2143.52</td>\n",
       "      <td>63</td>\n",
       "    </tr>\n",
       "    <tr>\n",
       "      <th>15</th>\n",
       "      <td>2024-06-10/2024-06-16</td>\n",
       "      <td>1835.98</td>\n",
       "      <td>54</td>\n",
       "    </tr>\n",
       "    <tr>\n",
       "      <th>16</th>\n",
       "      <td>2024-06-17/2024-06-23</td>\n",
       "      <td>1911.42</td>\n",
       "      <td>56</td>\n",
       "    </tr>\n",
       "    <tr>\n",
       "      <th>17</th>\n",
       "      <td>2024-06-24/2024-06-30</td>\n",
       "      <td>1268.24</td>\n",
       "      <td>37</td>\n",
       "    </tr>\n",
       "    <tr>\n",
       "      <th>18</th>\n",
       "      <td>2024-07-01/2024-07-07</td>\n",
       "      <td>1475.42</td>\n",
       "      <td>46</td>\n",
       "    </tr>\n",
       "    <tr>\n",
       "      <th>19</th>\n",
       "      <td>2024-07-08/2024-07-14</td>\n",
       "      <td>876.80</td>\n",
       "      <td>30</td>\n",
       "    </tr>\n",
       "    <tr>\n",
       "      <th>20</th>\n",
       "      <td>2024-07-15/2024-07-21</td>\n",
       "      <td>998.28</td>\n",
       "      <td>34</td>\n",
       "    </tr>\n",
       "    <tr>\n",
       "      <th>21</th>\n",
       "      <td>2024-07-22/2024-07-28</td>\n",
       "      <td>1959.30</td>\n",
       "      <td>70</td>\n",
       "    </tr>\n",
       "    <tr>\n",
       "      <th>22</th>\n",
       "      <td>2024-07-29/2024-08-04</td>\n",
       "      <td>1606.14</td>\n",
       "      <td>57</td>\n",
       "    </tr>\n",
       "  </tbody>\n",
       "</table>\n",
       "</div>"
      ],
      "text/plain": [
       "                     week    money  cups\n",
       "0   2024-02-26/2024-03-03   973.50    28\n",
       "1   2024-03-04/2024-03-10  1840.50    53\n",
       "2   2024-03-11/2024-03-17  1516.30    47\n",
       "3   2024-03-18/2024-03-24  1307.80    38\n",
       "4   2024-03-25/2024-03-31  1412.10    40\n",
       "5   2024-04-01/2024-04-07  1434.50    42\n",
       "6   2024-04-08/2024-04-14  1666.00    48\n",
       "7   2024-04-15/2024-04-21  1838.84    53\n",
       "8   2024-04-22/2024-04-28  1251.20    37\n",
       "9   2024-04-29/2024-05-05   890.18    26\n",
       "10  2024-05-06/2024-05-12  1705.80    50\n",
       "11  2024-05-13/2024-05-19  2180.26    66\n",
       "12  2024-05-20/2024-05-26  2811.80    83\n",
       "13  2024-05-27/2024-06-02  2605.00    75\n",
       "14  2024-06-03/2024-06-09  2143.52    63\n",
       "15  2024-06-10/2024-06-16  1835.98    54\n",
       "16  2024-06-17/2024-06-23  1911.42    56\n",
       "17  2024-06-24/2024-06-30  1268.24    37\n",
       "18  2024-07-01/2024-07-07  1475.42    46\n",
       "19  2024-07-08/2024-07-14   876.80    30\n",
       "20  2024-07-15/2024-07-21   998.28    34\n",
       "21  2024-07-22/2024-07-28  1959.30    70\n",
       "22  2024-07-29/2024-08-04  1606.14    57"
      ]
     },
     "execution_count": 72,
     "metadata": {},
     "output_type": "execute_result"
    }
   ],
   "source": [
    "# money for each week\n",
    "\n",
    "df_week = df.groupby('week').agg({'money':['sum','count']}).reset_index()\n",
    "df_week.columns = ['week','money','cups']\n",
    "df_week"
   ]
  },
  {
   "cell_type": "code",
   "execution_count": 77,
   "id": "a750f4ac-13d7-457a-becc-b66e980f2594",
   "metadata": {},
   "outputs": [
    {
     "data": {
      "image/png": "[encoded data removed]",
      "text/plain": [
       "<Figure size 1400x400 with 1 Axes>"
      ]
     },
     "metadata": {},
     "output_type": "display_data"
    }
   ],
   "source": [
    "plt.figure(figsize = (14,4))\n",
    "sns.barplot(df_week, y='money', x='week', color ='#bd9e8a')\n",
    "plt.xticks(rotation=90)\n",
    "plt.grid()"
   ]
  },
  {
   "cell_type": "code",
   "execution_count": null,
   "id": "d6075708-a9ed-4d01-8c21-2bf4d4ce71c6",
   "metadata": {},
   "outputs": [],
   "source": []
  }
 ],
 "metadata": {
  "kernelspec": {
   "display_name": "Python 3 (ipykernel)",
   "language": "python",
   "name": "python3"
  },
  "language_info": {
   "codemirror_mode": {
    "name": "ipython",
    "version": 3
   },
   "file_extension": ".py",
   "mimetype": "text/x-python",
   "name": "python",
   "nbconvert_exporter": "python",
   "pygments_lexer": "ipython3",
   "version": "3.8.10"
  }
 },
 "nbformat": 4,
 "nbformat_minor": 5
}
