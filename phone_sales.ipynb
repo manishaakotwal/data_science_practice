{
 "cells": [
  {
   "cell_type": "code",
   "execution_count": 32,
   "id": "a1187060-c51a-4a64-b93c-4cc524895d98",
   "metadata": {},
   "outputs": [],
   "source": [
    "import pandas as pd\n",
    "import numpy as np"
   ]
  },
  {
   "cell_type": "code",
   "execution_count": 33,
   "id": "9c11973a-038c-4da6-ac3a-4f2ce5094e93",
   "metadata": {},
   "outputs": [],
   "source": [
    "data = pd.read_csv('phone_selling.csv')"
   ]
  },
  {
   "cell_type": "code",
   "execution_count": 34,
   "id": "03015e27-59b6-43ce-b598-ba23b9bf13b8",
   "metadata": {},
   "outputs": [],
   "source": [
    "df = data.copy()"
   ]
  },
  {
   "cell_type": "code",
   "execution_count": 35,
   "id": "9576db2d-e77e-4241-8c16-0328e2670c46",
   "metadata": {},
   "outputs": [
    {
     "data": {
      "text/html": [
       "<div>\n",
       "<style scoped>\n",
       "    .dataframe tbody tr th:only-of-type {\n",
       "        vertical-align: middle;\n",
       "    }\n",
       "\n",
       "    .dataframe tbody tr th {\n",
       "        vertical-align: top;\n",
       "    }\n",
       "\n",
       "    .dataframe thead th {\n",
       "        text-align: right;\n",
       "    }\n",
       "</style>\n",
       "<table border=\"1\" class=\"dataframe\">\n",
       "  <thead>\n",
       "    <tr style=\"text-align: right;\">\n",
       "      <th></th>\n",
       "      <th>Rank</th>\n",
       "      <th>Manufacturer</th>\n",
       "      <th>Model</th>\n",
       "      <th>Form Factor</th>\n",
       "      <th>Smartphone?</th>\n",
       "      <th>Year</th>\n",
       "      <th>Units Sold (million )</th>\n",
       "    </tr>\n",
       "  </thead>\n",
       "  <tbody>\n",
       "    <tr>\n",
       "      <th>0</th>\n",
       "      <td>1</td>\n",
       "      <td>Nokia</td>\n",
       "      <td>1100</td>\n",
       "      <td>Bar</td>\n",
       "      <td>False</td>\n",
       "      <td>2003</td>\n",
       "      <td>250.0</td>\n",
       "    </tr>\n",
       "    <tr>\n",
       "      <th>1</th>\n",
       "      <td>2</td>\n",
       "      <td>Nokia</td>\n",
       "      <td>1110</td>\n",
       "      <td>Bar</td>\n",
       "      <td>False</td>\n",
       "      <td>2005</td>\n",
       "      <td>247.5</td>\n",
       "    </tr>\n",
       "    <tr>\n",
       "      <th>2</th>\n",
       "      <td>3</td>\n",
       "      <td>Apple</td>\n",
       "      <td>iPhone 6 &amp; 6 Plus</td>\n",
       "      <td>Touchscreen</td>\n",
       "      <td>True</td>\n",
       "      <td>2014</td>\n",
       "      <td>222.4</td>\n",
       "    </tr>\n",
       "    <tr>\n",
       "      <th>3</th>\n",
       "      <td>4</td>\n",
       "      <td>Nokia</td>\n",
       "      <td>105 Series</td>\n",
       "      <td>Bar</td>\n",
       "      <td>False</td>\n",
       "      <td>2013</td>\n",
       "      <td>200.0</td>\n",
       "    </tr>\n",
       "    <tr>\n",
       "      <th>4</th>\n",
       "      <td>5</td>\n",
       "      <td>Apple</td>\n",
       "      <td>iPhone 6S &amp; 6S Plus</td>\n",
       "      <td>Touchscreen</td>\n",
       "      <td>True</td>\n",
       "      <td>2015</td>\n",
       "      <td>174.1</td>\n",
       "    </tr>\n",
       "    <tr>\n",
       "      <th>5</th>\n",
       "      <td>6</td>\n",
       "      <td>Apple</td>\n",
       "      <td>iPhone 5S</td>\n",
       "      <td>Touchscreen</td>\n",
       "      <td>True</td>\n",
       "      <td>2013</td>\n",
       "      <td>164.5</td>\n",
       "    </tr>\n",
       "    <tr>\n",
       "      <th>6</th>\n",
       "      <td>7</td>\n",
       "      <td>Nokia</td>\n",
       "      <td>3210</td>\n",
       "      <td>Bar</td>\n",
       "      <td>False</td>\n",
       "      <td>1999</td>\n",
       "      <td>161.0</td>\n",
       "    </tr>\n",
       "  </tbody>\n",
       "</table>\n",
       "</div>"
      ],
      "text/plain": [
       "   Rank Manufacturer                Model  Form Factor  Smartphone?  Year  \\\n",
       "0     1        Nokia                 1100          Bar        False  2003   \n",
       "1     2        Nokia                 1110          Bar        False  2005   \n",
       "2     3        Apple    iPhone 6 & 6 Plus  Touchscreen         True  2014   \n",
       "3     4        Nokia           105 Series          Bar        False  2013   \n",
       "4     5        Apple  iPhone 6S & 6S Plus  Touchscreen         True  2015   \n",
       "5     6        Apple            iPhone 5S  Touchscreen         True  2013   \n",
       "6     7        Nokia                 3210          Bar        False  1999   \n",
       "\n",
       "   Units Sold (million )  \n",
       "0                  250.0  \n",
       "1                  247.5  \n",
       "2                  222.4  \n",
       "3                  200.0  \n",
       "4                  174.1  \n",
       "5                  164.5  \n",
       "6                  161.0  "
      ]
     },
     "execution_count": 35,
     "metadata": {},
     "output_type": "execute_result"
    }
   ],
   "source": [
    "df.head(7)"
   ]
  },
  {
   "cell_type": "code",
   "execution_count": 36,
   "id": "386e6417-05f7-4320-9653-fbb8c5280bd5",
   "metadata": {},
   "outputs": [
    {
     "data": {
      "text/html": [
       "<div>\n",
       "<style scoped>\n",
       "    .dataframe tbody tr th:only-of-type {\n",
       "        vertical-align: middle;\n",
       "    }\n",
       "\n",
       "    .dataframe tbody tr th {\n",
       "        vertical-align: top;\n",
       "    }\n",
       "\n",
       "    .dataframe thead th {\n",
       "        text-align: right;\n",
       "    }\n",
       "</style>\n",
       "<table border=\"1\" class=\"dataframe\">\n",
       "  <thead>\n",
       "    <tr style=\"text-align: right;\">\n",
       "      <th></th>\n",
       "      <th>Rank</th>\n",
       "      <th>Manufacturer</th>\n",
       "      <th>Model</th>\n",
       "      <th>Form Factor</th>\n",
       "      <th>Smartphone?</th>\n",
       "      <th>Year</th>\n",
       "      <th>Units Sold (million )</th>\n",
       "    </tr>\n",
       "  </thead>\n",
       "  <tbody>\n",
       "    <tr>\n",
       "      <th>115</th>\n",
       "      <td>116</td>\n",
       "      <td>Samsung</td>\n",
       "      <td>Samsung Galaxy A55</td>\n",
       "      <td>Touchscreen</td>\n",
       "      <td>True</td>\n",
       "      <td>2024</td>\n",
       "      <td>2.7</td>\n",
       "    </tr>\n",
       "    <tr>\n",
       "      <th>116</th>\n",
       "      <td>117</td>\n",
       "      <td>Samsung</td>\n",
       "      <td>Samsung Galaxy S24</td>\n",
       "      <td>Touchscreen</td>\n",
       "      <td>True</td>\n",
       "      <td>2024</td>\n",
       "      <td>2.4</td>\n",
       "    </tr>\n",
       "    <tr>\n",
       "      <th>117</th>\n",
       "      <td>118</td>\n",
       "      <td>Samsung</td>\n",
       "      <td>Samsung Galaxy A15 4G</td>\n",
       "      <td>Touchscreen</td>\n",
       "      <td>True</td>\n",
       "      <td>2023</td>\n",
       "      <td>2.2</td>\n",
       "    </tr>\n",
       "    <tr>\n",
       "      <th>118</th>\n",
       "      <td>119</td>\n",
       "      <td>Google</td>\n",
       "      <td>Pixel &amp; Pixel XL</td>\n",
       "      <td>Touchscreen</td>\n",
       "      <td>True</td>\n",
       "      <td>2016</td>\n",
       "      <td>2.1</td>\n",
       "    </tr>\n",
       "    <tr>\n",
       "      <th>119</th>\n",
       "      <td>120</td>\n",
       "      <td>Palm</td>\n",
       "      <td>Centro</td>\n",
       "      <td>Keyboard bar</td>\n",
       "      <td>True</td>\n",
       "      <td>2007</td>\n",
       "      <td>2.0</td>\n",
       "    </tr>\n",
       "  </tbody>\n",
       "</table>\n",
       "</div>"
      ],
      "text/plain": [
       "     Rank Manufacturer                  Model   Form Factor  Smartphone?  \\\n",
       "115   116      Samsung     Samsung Galaxy A55   Touchscreen         True   \n",
       "116   117      Samsung     Samsung Galaxy S24   Touchscreen         True   \n",
       "117   118      Samsung  Samsung Galaxy A15 4G   Touchscreen         True   \n",
       "118   119       Google       Pixel & Pixel XL   Touchscreen         True   \n",
       "119   120         Palm                 Centro  Keyboard bar         True   \n",
       "\n",
       "     Year  Units Sold (million )  \n",
       "115  2024                    2.7  \n",
       "116  2024                    2.4  \n",
       "117  2023                    2.2  \n",
       "118  2016                    2.1  \n",
       "119  2007                    2.0  "
      ]
     },
     "execution_count": 36,
     "metadata": {},
     "output_type": "execute_result"
    }
   ],
   "source": [
    "df.tail()"
   ]
  },
  {
   "cell_type": "code",
   "execution_count": 37,
   "id": "1c8a15d9-f100-4e6d-914d-a61ce06da2f2",
   "metadata": {},
   "outputs": [
    {
     "data": {
      "text/plain": [
       "0"
      ]
     },
     "execution_count": 37,
     "metadata": {},
     "output_type": "execute_result"
    }
   ],
   "source": [
    "df.duplicated().sum()"
   ]
  },
  {
   "cell_type": "code",
   "execution_count": 38,
   "id": "83104fa2-13d0-4500-b615-a9cf1bd7beb7",
   "metadata": {},
   "outputs": [
    {
     "data": {
      "text/plain": [
       "Rank                     0\n",
       "Manufacturer             0\n",
       "Model                    0\n",
       "Form Factor              0\n",
       "Smartphone?              0\n",
       "Year                     0\n",
       "Units Sold (million )    0\n",
       "dtype: int64"
      ]
     },
     "execution_count": 38,
     "metadata": {},
     "output_type": "execute_result"
    }
   ],
   "source": [
    "df.isna().sum()"
   ]
  },
  {
   "cell_type": "code",
   "execution_count": 39,
   "id": "9dae7f8f-c9f9-490e-997a-248cbb8fac87",
   "metadata": {},
   "outputs": [
    {
     "data": {
      "text/plain": [
       "Rank                     120\n",
       "Manufacturer             120\n",
       "Model                    120\n",
       "Form Factor              120\n",
       "Smartphone?              120\n",
       "Year                     120\n",
       "Units Sold (million )    120\n",
       "dtype: int64"
      ]
     },
     "execution_count": 39,
     "metadata": {},
     "output_type": "execute_result"
    }
   ],
   "source": [
    "df.notna().sum()"
   ]
  },
  {
   "cell_type": "code",
   "execution_count": 40,
   "id": "79391b30-1841-49bb-8545-e362b5c68ab4",
   "metadata": {},
   "outputs": [
    {
     "data": {
      "text/plain": [
       "(120, 7)"
      ]
     },
     "execution_count": 40,
     "metadata": {},
     "output_type": "execute_result"
    }
   ],
   "source": [
    "df.shape"
   ]
  },
  {
   "cell_type": "code",
   "execution_count": 41,
   "id": "a8496fb0-b96b-4bda-946e-ed269a318a36",
   "metadata": {},
   "outputs": [
    {
     "data": {
      "text/plain": [
       "Index(['Rank', 'Manufacturer', 'Model', 'Form Factor', 'Smartphone?', 'Year',\n",
       "       'Units Sold (million )'],\n",
       "      dtype='object')"
      ]
     },
     "execution_count": 41,
     "metadata": {},
     "output_type": "execute_result"
    }
   ],
   "source": [
    "df.columns"
   ]
  },
  {
   "cell_type": "code",
   "execution_count": 42,
   "id": "70d8c021-1758-47a2-ac46-89c62154dfaf",
   "metadata": {},
   "outputs": [
    {
     "data": {
      "text/plain": [
       "Rank                       int64\n",
       "Manufacturer              object\n",
       "Model                     object\n",
       "Form Factor               object\n",
       "Smartphone?                 bool\n",
       "Year                       int64\n",
       "Units Sold (million )    float64\n",
       "dtype: object"
      ]
     },
     "execution_count": 42,
     "metadata": {},
     "output_type": "execute_result"
    }
   ],
   "source": [
    "df.dtypes"
   ]
  },
  {
   "cell_type": "code",
   "execution_count": 44,
   "id": "dcd166b8-ee92-40df-8877-7f2851cf81a8",
   "metadata": {},
   "outputs": [],
   "source": [
    "# replace\n",
    "df.loc[6,'Manufacturer'] = 'Samsung'"
   ]
  },
  {
   "cell_type": "code",
   "execution_count": 45,
   "id": "0f1a349c-cf2f-42ff-96dc-75948ba1cbba",
   "metadata": {},
   "outputs": [
    {
     "data": {
      "text/html": [
       "<div>\n",
       "<style scoped>\n",
       "    .dataframe tbody tr th:only-of-type {\n",
       "        vertical-align: middle;\n",
       "    }\n",
       "\n",
       "    .dataframe tbody tr th {\n",
       "        vertical-align: top;\n",
       "    }\n",
       "\n",
       "    .dataframe thead th {\n",
       "        text-align: right;\n",
       "    }\n",
       "</style>\n",
       "<table border=\"1\" class=\"dataframe\">\n",
       "  <thead>\n",
       "    <tr style=\"text-align: right;\">\n",
       "      <th></th>\n",
       "      <th>Rank</th>\n",
       "      <th>Manufacturer</th>\n",
       "      <th>Model</th>\n",
       "      <th>Form Factor</th>\n",
       "      <th>Smartphone?</th>\n",
       "      <th>Year</th>\n",
       "      <th>Units Sold (million )</th>\n",
       "    </tr>\n",
       "  </thead>\n",
       "  <tbody>\n",
       "    <tr>\n",
       "      <th>0</th>\n",
       "      <td>1</td>\n",
       "      <td>Nokia</td>\n",
       "      <td>1100</td>\n",
       "      <td>Bar</td>\n",
       "      <td>False</td>\n",
       "      <td>2003</td>\n",
       "      <td>250.0</td>\n",
       "    </tr>\n",
       "    <tr>\n",
       "      <th>1</th>\n",
       "      <td>2</td>\n",
       "      <td>Nokia</td>\n",
       "      <td>1110</td>\n",
       "      <td>Bar</td>\n",
       "      <td>False</td>\n",
       "      <td>2005</td>\n",
       "      <td>247.5</td>\n",
       "    </tr>\n",
       "    <tr>\n",
       "      <th>2</th>\n",
       "      <td>3</td>\n",
       "      <td>Apple</td>\n",
       "      <td>iPhone 6 &amp; 6 Plus</td>\n",
       "      <td>Touchscreen</td>\n",
       "      <td>True</td>\n",
       "      <td>2014</td>\n",
       "      <td>222.4</td>\n",
       "    </tr>\n",
       "    <tr>\n",
       "      <th>3</th>\n",
       "      <td>4</td>\n",
       "      <td>Nokia</td>\n",
       "      <td>105 Series</td>\n",
       "      <td>Bar</td>\n",
       "      <td>False</td>\n",
       "      <td>2013</td>\n",
       "      <td>200.0</td>\n",
       "    </tr>\n",
       "    <tr>\n",
       "      <th>4</th>\n",
       "      <td>5</td>\n",
       "      <td>Apple</td>\n",
       "      <td>iPhone 6S &amp; 6S Plus</td>\n",
       "      <td>Touchscreen</td>\n",
       "      <td>True</td>\n",
       "      <td>2015</td>\n",
       "      <td>174.1</td>\n",
       "    </tr>\n",
       "    <tr>\n",
       "      <th>5</th>\n",
       "      <td>6</td>\n",
       "      <td>Apple</td>\n",
       "      <td>iPhone 5S</td>\n",
       "      <td>Touchscreen</td>\n",
       "      <td>True</td>\n",
       "      <td>2013</td>\n",
       "      <td>164.5</td>\n",
       "    </tr>\n",
       "    <tr>\n",
       "      <th>6</th>\n",
       "      <td>7</td>\n",
       "      <td>Samsung</td>\n",
       "      <td>3210</td>\n",
       "      <td>Bar</td>\n",
       "      <td>False</td>\n",
       "      <td>1999</td>\n",
       "      <td>161.0</td>\n",
       "    </tr>\n",
       "  </tbody>\n",
       "</table>\n",
       "</div>"
      ],
      "text/plain": [
       "   Rank Manufacturer                Model  Form Factor  Smartphone?  Year  \\\n",
       "0     1        Nokia                 1100          Bar        False  2003   \n",
       "1     2        Nokia                 1110          Bar        False  2005   \n",
       "2     3        Apple    iPhone 6 & 6 Plus  Touchscreen         True  2014   \n",
       "3     4        Nokia           105 Series          Bar        False  2013   \n",
       "4     5        Apple  iPhone 6S & 6S Plus  Touchscreen         True  2015   \n",
       "5     6        Apple            iPhone 5S  Touchscreen         True  2013   \n",
       "6     7      Samsung                 3210          Bar        False  1999   \n",
       "\n",
       "   Units Sold (million )  \n",
       "0                  250.0  \n",
       "1                  247.5  \n",
       "2                  222.4  \n",
       "3                  200.0  \n",
       "4                  174.1  \n",
       "5                  164.5  \n",
       "6                  161.0  "
      ]
     },
     "execution_count": 45,
     "metadata": {},
     "output_type": "execute_result"
    }
   ],
   "source": [
    "df.head(7)"
   ]
  },
  {
   "cell_type": "code",
   "execution_count": 58,
   "id": "347f0fa4-5188-446b-97e8-c7a36080b805",
   "metadata": {},
   "outputs": [
    {
     "data": {
      "text/html": [
       "<div>\n",
       "<style scoped>\n",
       "    .dataframe tbody tr th:only-of-type {\n",
       "        vertical-align: middle;\n",
       "    }\n",
       "\n",
       "    .dataframe tbody tr th {\n",
       "        vertical-align: top;\n",
       "    }\n",
       "\n",
       "    .dataframe thead th {\n",
       "        text-align: right;\n",
       "    }\n",
       "</style>\n",
       "<table border=\"1\" class=\"dataframe\">\n",
       "  <thead>\n",
       "    <tr style=\"text-align: right;\">\n",
       "      <th></th>\n",
       "      <th>Manufacturer</th>\n",
       "      <th>Units Sold (million )</th>\n",
       "      <th>count</th>\n",
       "    </tr>\n",
       "  </thead>\n",
       "  <tbody>\n",
       "    <tr>\n",
       "      <th>0</th>\n",
       "      <td>Apple</td>\n",
       "      <td>1669.3</td>\n",
       "      <td>16</td>\n",
       "    </tr>\n",
       "    <tr>\n",
       "      <th>1</th>\n",
       "      <td>Google</td>\n",
       "      <td>2.1</td>\n",
       "      <td>1</td>\n",
       "    </tr>\n",
       "    <tr>\n",
       "      <th>2</th>\n",
       "      <td>HTC</td>\n",
       "      <td>16.0</td>\n",
       "      <td>1</td>\n",
       "    </tr>\n",
       "    <tr>\n",
       "      <th>3</th>\n",
       "      <td>Huawei</td>\n",
       "      <td>113.8</td>\n",
       "      <td>6</td>\n",
       "    </tr>\n",
       "    <tr>\n",
       "      <th>4</th>\n",
       "      <td>LG</td>\n",
       "      <td>92.0</td>\n",
       "      <td>7</td>\n",
       "    </tr>\n",
       "    <tr>\n",
       "      <th>5</th>\n",
       "      <td>LeTV</td>\n",
       "      <td>3.0</td>\n",
       "      <td>1</td>\n",
       "    </tr>\n",
       "    <tr>\n",
       "      <th>6</th>\n",
       "      <td>Motorola</td>\n",
       "      <td>323.0</td>\n",
       "      <td>5</td>\n",
       "    </tr>\n",
       "    <tr>\n",
       "      <th>7</th>\n",
       "      <td>Nokia</td>\n",
       "      <td>2213.5</td>\n",
       "      <td>25</td>\n",
       "    </tr>\n",
       "    <tr>\n",
       "      <th>8</th>\n",
       "      <td>Oppo</td>\n",
       "      <td>16.7</td>\n",
       "      <td>2</td>\n",
       "    </tr>\n",
       "    <tr>\n",
       "      <th>9</th>\n",
       "      <td>Palm</td>\n",
       "      <td>2.0</td>\n",
       "      <td>1</td>\n",
       "    </tr>\n",
       "    <tr>\n",
       "      <th>10</th>\n",
       "      <td>Research in Motion (RIM)</td>\n",
       "      <td>15.0</td>\n",
       "      <td>1</td>\n",
       "    </tr>\n",
       "    <tr>\n",
       "      <th>11</th>\n",
       "      <td>Samsung</td>\n",
       "      <td>1155.5</td>\n",
       "      <td>44</td>\n",
       "    </tr>\n",
       "    <tr>\n",
       "      <th>12</th>\n",
       "      <td>Sony Ericsson</td>\n",
       "      <td>45.0</td>\n",
       "      <td>3</td>\n",
       "    </tr>\n",
       "    <tr>\n",
       "      <th>13</th>\n",
       "      <td>Xiaomi</td>\n",
       "      <td>99.1</td>\n",
       "      <td>7</td>\n",
       "    </tr>\n",
       "  </tbody>\n",
       "</table>\n",
       "</div>"
      ],
      "text/plain": [
       "                Manufacturer  Units Sold (million )  count\n",
       "0                      Apple                 1669.3     16\n",
       "1                     Google                    2.1      1\n",
       "2                        HTC                   16.0      1\n",
       "3                     Huawei                  113.8      6\n",
       "4                         LG                   92.0      7\n",
       "5                       LeTV                    3.0      1\n",
       "6                   Motorola                  323.0      5\n",
       "7                      Nokia                 2213.5     25\n",
       "8                       Oppo                   16.7      2\n",
       "9                       Palm                    2.0      1\n",
       "10  Research in Motion (RIM)                   15.0      1\n",
       "11                   Samsung                 1155.5     44\n",
       "12             Sony Ericsson                   45.0      3\n",
       "13                    Xiaomi                   99.1      7"
      ]
     },
     "execution_count": 58,
     "metadata": {},
     "output_type": "execute_result"
    }
   ],
   "source": [
    "df_grpby = df.groupby('Manufacturer').agg({'Units Sold (million )':['sum','count']}).reset_index()\n",
    "df_grpby.columns = ['Manufacturer','Units Sold (million )','count']\n",
    "df_grpby"
   ]
  },
  {
   "cell_type": "code",
   "execution_count": 54,
   "id": "a764f8a3-12bb-451b-9fbb-1544e13b0c38",
   "metadata": {},
   "outputs": [
    {
     "data": {
      "image/png": "[encoded data removed]",
      "text/plain": [
       "<Figure size 1400x400 with 1 Axes>"
      ]
     },
     "metadata": {},
     "output_type": "display_data"
    }
   ],
   "source": [
    "import matplotlib.pyplot as plt\n",
    "import seaborn as sns\n",
    "\n",
    "plt.figure(figsize=(14,4))\n",
    "sns.barplot(data=df_grpby, x='Manufacturer', y='Units Sold (million )')\n",
    "plt.grid()\n",
    "plt.show()"
   ]
  },
  {
   "cell_type": "code",
   "execution_count": null,
   "id": "3b4a0288-0af7-4b30-8f8f-1f83911c8043",
   "metadata": {},
   "outputs": [],
   "source": []
  }
 ],
 "metadata": {
  "kernelspec": {
   "display_name": "Python 3 (ipykernel)",
   "language": "python",
   "name": "python3"
  },
  "language_info": {
   "codemirror_mode": {
    "name": "ipython",
    "version": 3
   },
   "file_extension": ".py",
   "mimetype": "text/x-python",
   "name": "python",
   "nbconvert_exporter": "python",
   "pygments_lexer": "ipython3",
   "version": "3.8.10"
  }
 },
 "nbformat": 4,
 "nbformat_minor": 5
}
