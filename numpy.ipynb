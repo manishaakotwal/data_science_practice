{
 "cells": [
  {
   "cell_type": "code",
   "execution_count": 1,
   "id": "85f5e805-2041-4aac-8612-491113549a98",
   "metadata": {},
   "outputs": [],
   "source": [
    "import numpy as np\n",
    "import pandas as pd"
   ]
  },
  {
   "cell_type": "code",
   "execution_count": 3,
   "id": "efbb7157-f104-4781-a1b8-abb3f1d7bf8c",
   "metadata": {},
   "outputs": [
    {
     "data": {
      "text/plain": [
       "(array([[ 1.46478448e-316,  0.00000000e+000,  3.39519328e-313,\n",
       "         -1.26160168e+275],\n",
       "        [ 6.94726214e-310,  9.33678150e-313, -2.75956161e+110,\n",
       "          0.00000000e+000],\n",
       "        [ 4.39718425e-322,  6.94720202e-310,  6.94726215e-310,\n",
       "          1.08221785e-312]]),\n",
       " array([[5, 5, 5, 5],\n",
       "        [5, 5, 5, 5],\n",
       "        [5, 5, 5, 5]]))"
      ]
     },
     "execution_count": 3,
     "metadata": {},
     "output_type": "execute_result"
    }
   ],
   "source": [
    "# How to create an empty and a full NumPy array?\n",
    "arr = np.empty([3,4])\n",
    "arr1 = np.full((3,4),5)\n",
    "arr, arr1"
   ]
  },
  {
   "cell_type": "code",
   "execution_count": 8,
   "id": "2164c5b0-f6c0-49f9-a6b7-56151c306b04",
   "metadata": {},
   "outputs": [
    {
     "data": {
      "text/plain": [
       "array([[0., 0., 0., 0.],\n",
       "       [0., 0., 0., 0.],\n",
       "       [0., 0., 0., 0.]])"
      ]
     },
     "execution_count": 8,
     "metadata": {},
     "output_type": "execute_result"
    }
   ],
   "source": [
    "# Create a Numpy array filled with all zeros\n",
    "arr = np.zeros([3,4])\n",
    "arr # covert it into int"
   ]
  },
  {
   "cell_type": "code",
   "execution_count": 13,
   "id": "cf9d0d26-d096-4d29-b35b-642af80e2ec9",
   "metadata": {},
   "outputs": [
    {
     "data": {
      "text/plain": [
       "array([[1., 1., 1.],\n",
       "       [1., 1., 1.],\n",
       "       [1., 1., 1.]])"
      ]
     },
     "execution_count": 13,
     "metadata": {},
     "output_type": "execute_result"
    }
   ],
   "source": [
    "# Create a Numpy array filled with all ones\n",
    "arr = np.ones([3,3])\n",
    "arr"
   ]
  },
  {
   "cell_type": "code",
   "execution_count": 26,
   "id": "b3df2114-e898-40d0-a20a-c56a8313cd39",
   "metadata": {},
   "outputs": [
    {
     "data": {
      "text/plain": [
       "True"
      ]
     },
     "execution_count": 26,
     "metadata": {},
     "output_type": "execute_result"
    }
   ],
   "source": [
    "# Check whether a Numpy array contains a specified row\n",
    "arr = np.array([1,2,3,4,5,6]).reshape(3,2)\n",
    "arr\n",
    "[3,4] in arr.tolist()"
   ]
  },
  {
   "cell_type": "code",
   "execution_count": 27,
   "id": "04edbc03-7c61-4b60-94cf-50dfef4a396a",
   "metadata": {},
   "outputs": [
    {
     "name": "stdout",
     "output_type": "stream",
     "text": [
      "Given array:\n",
      "[[10.5 22.5  3.8]\n",
      " [41.   nan  nan]]\n",
      "\n",
      "Remove all rows containing non-numeric elements\n",
      "[[10.5 22.5  3.8]]\n"
     ]
    }
   ],
   "source": [
    "# How to Remove rows in Numpy array that contains non-numeric values?\n",
    "n_arr = np.array([[10.5, 22.5, 3.8], \n",
    "                  [41, np.nan, np.nan]]) \n",
    "  \n",
    "print(\"Given array:\") \n",
    "print(n_arr) \n",
    "  \n",
    "print(\"\\nRemove all rows containing non-numeric elements\") \n",
    "print(n_arr[~np.isnan(n_arr).any(axis=1)]) "
   ]
  },
  {
   "cell_type": "code",
   "execution_count": 28,
   "id": "cc4626ce-f39e-4b78-b56a-d2123afaa31b",
   "metadata": {},
   "outputs": [
    {
     "name": "stdout",
     "output_type": "stream",
     "text": [
      "Original shape: (1, 1, 3)\n",
      "Squeezed shape: (3,)\n",
      "Squeezed array: [1 2 3]\n"
     ]
    }
   ],
   "source": [
    "# Remove single-dimensional entries from the shape of an array\n",
    "arr = np.array([[[1, 2, 3]]])  # Shape (1, 1, 3)\n",
    "\n",
    "# Removing single-dimensional entries\n",
    "squeezed_arr = np.squeeze(arr)\n",
    "\n",
    "print(\"Original shape:\", arr.shape)\n",
    "print(\"Squeezed shape:\", squeezed_arr.shape)\n",
    "print(\"Squeezed array:\", squeezed_arr)"
   ]
  },
  {
   "cell_type": "code",
   "execution_count": 29,
   "id": "d309c0b9-3fc8-4c23-9c9f-2f3050132422",
   "metadata": {},
   "outputs": [
    {
     "name": "stdout",
     "output_type": "stream",
     "text": [
      "Most frequent value: 1\n"
     ]
    }
   ],
   "source": [
    "# Find the number of occurrences of a sequence in a NumPy array\n",
    "import numpy as np\n",
    "\n",
    "# Create a NumPy array\n",
    "arr = np.array([1, 3, 2, 1, 4, 1, 2, 3, 1, 4, 2, 1])\n",
    "\n",
    "# Use np.bincount() and np.argmax() to find the most frequent value\n",
    "most_frequent = np.bincount(arr).argmax()\n",
    "\n",
    "print(\"Most frequent value:\", most_frequent)"
   ]
  },
  {
   "cell_type": "markdown",
   "id": "f3299311-f7e7-41d2-bc9b-40b01eceb57f",
   "metadata": {},
   "source": [
    "## creating array"
   ]
  },
  {
   "cell_type": "code",
   "execution_count": 55,
   "id": "d4a392bf-7ffd-4cda-8316-57cbb1b2eca0",
   "metadata": {},
   "outputs": [
    {
     "data": {
      "text/plain": [
       "array([ 5,  7,  9, 11, 13, 15, 17, 19, 21, 23, 25])"
      ]
     },
     "execution_count": 55,
     "metadata": {},
     "output_type": "execute_result"
    }
   ],
   "source": [
    "\n",
    "# Create a 1D NumPy array of the first 10 even numbers.\n",
    "arr = np.arange(2,21,2)\n",
    "arr\n",
    "# Create a 3x3 identity matrix using NumPy.\n",
    "arr = np.eye(3)\n",
    "arr\n",
    " # Create a NumPy array filled with zeros of shape (4, 5).\n",
    "arr = np.zeros([4,5])\n",
    "arr\n",
    "# Create a NumPy array filled with ones of shape (2, 3).\n",
    "arr = np.ones([2,3])\n",
    "arr\n",
    "# Create a 2D array of shape (4, 4) with values ranging from 1 to 16.\n",
    "arr = np.arange(1,17).reshape(4,4)\n",
    "arr\n",
    "# Create an array of 10 random numbers between 0 and 1.\n",
    "arr = np.random.rand(10)\n",
    "arr\n",
    "# Create a NumPy array with values from 10 to 50.\n",
    "arr = np.arange(10,51)\n",
    "arr\n",
    "# Create a 5x5 array with random integer values between 1 and 100.\n",
    "arr = np.random.randint(1,101 ,size=(5,5))\n",
    "arr\n",
    " # Create an array with 20 evenly spaced values between 0 and 5.\n",
    "arr = np.linspace(0,5,20)\n",
    "arr\n",
    "# Create a NumPy array using the arange() function that starts at 5 and ends at 25 with a step of 2.\n",
    "arr = np.arange(5,26,2)\n",
    "arr"
   ]
  },
  {
   "cell_type": "markdown",
   "id": "309663e6-f8bd-4206-8d50-1da86c0efda0",
   "metadata": {},
   "source": [
    "## array indexing"
   ]
  },
  {
   "cell_type": "code",
   "execution_count": 77,
   "id": "ee33ec11-9882-440b-95cc-cff55b40a653",
   "metadata": {},
   "outputs": [
    {
     "data": {
      "text/plain": [
       "array([10, 30, 50])"
      ]
     },
     "execution_count": 77,
     "metadata": {},
     "output_type": "execute_result"
    }
   ],
   "source": [
    "\n",
    "# Access the third element from a 1D array of your choice.\n",
    "arr_1d = np.array([10, 20, 30, 40, 50])\n",
    "arr_1d[2]\n",
    "# Access the last element from a 1D array.\n",
    "last_element = arr_1d[-1]\n",
    "last_element\n",
    "# Access the first row of a 2D array with shape (4, 4).\n",
    "arr_2d = np.array([[1, 2, 3, 4],\n",
    "                   [5, 6, 7, 8],\n",
    "                   [9, 10, 11, 12],\n",
    "                   [13, 14, 15, 16]])\n",
    "arr_2d[0]\n",
    "\n",
    "# Retrieve the element at the second row and third column of a 3x3 array.\n",
    "arr_3x3 = np.array([[1, 2, 3],\n",
    "                    [4, 5, 6],\n",
    "                    [7, 8, 9]])\n",
    "arr_3x3[1,2]\n",
    "last_element = arr_3x3[-1]\n",
    "last_element\n",
    "\n",
    "# Access all elements from a 1D array that are greater than a specified value.\n",
    "value = 25\n",
    "arr_1d = np.array([10, 20, 30, 40, 50])\n",
    "specified_val = arr_1d[arr_1d > 25]\n",
    "specified_val\n",
    "\n",
    "# Access the first two elements of the second row in a 2D array.\n",
    "arr_3x3[1, :2]\n",
    "\n",
    "# Access the diagonal elements of a 3x3 matrix.\n",
    "arr_3x3 = np.array([[1, 2, 3],\n",
    "                    [4, 5, 6],\n",
    "                    [7, 8, 9]])\n",
    "diagonal_ele = np.diag(arr_3x3)\n",
    "diagonal_ele\n",
    "\n",
    "# Replace the third element of a 1D array with 100.\n",
    "arr_1d = np.array([10, 20, 30, 40, 50])\n",
    "arr_1d[2]=100\n",
    "arr_1d\n",
    "\n",
    "# Use negative indexing to access the last element of a 2D array.\n",
    "arr_2d = np.array([[1, 2, 3, 4],\n",
    "                   [5, 6, 7, 8],\n",
    "                   [9, 10, 11, 12],\n",
    "                   [13, 14, 15, 16]])\n",
    "arr_2d[-1,-1]\n",
    "\n",
    "# Access the elements at even indices from a 1D array.\n",
    "arr_1d = np.array([10, 20, 30, 40, 50])\n",
    "arr_1d[::2]"
   ]
  },
  {
   "cell_type": "markdown",
   "id": "d9eef482-73c2-468c-a260-f383250d382d",
   "metadata": {},
   "source": [
    "## NumPy Array Slicing"
   ]
  },
  {
   "cell_type": "code",
   "execution_count": 91,
   "id": "1c228d1e-3114-4015-87e0-aa8e1112bbb0",
   "metadata": {},
   "outputs": [
    {
     "data": {
      "text/plain": [
       "array([[1, 2, 3],\n",
       "       [4, 5, 6]])"
      ]
     },
     "execution_count": 91,
     "metadata": {},
     "output_type": "execute_result"
    }
   ],
   "source": [
    "\n",
    "# Slice the first three elements from a 1D array.\n",
    "arr_1d = np.array([10, 20, 30, 40, 50])\n",
    "arr_1d[0:3]\n",
    "# Slice the first two rows from a 3x3 matrix.\n",
    "arr_3x3 = np.array([[1, 2, 3],\n",
    "                    [4, 5, 6],\n",
    "                    [7, 8, 9]])\n",
    "arr_3x3[:2 ,:]\n",
    "# Slice the last two columns from a 2D array of your choice.\n",
    "arr_3x3 = np.array([[1, 2, 3],\n",
    "                    [4, 5, 6],\n",
    "                    [7, 8, 9]])\n",
    "arr_3x3[:,1:]\n",
    "# Slice a 1D array from the third element to the end.\n",
    "arr_1d = np.array([10, 20, 30, 40, 50])\n",
    "arr_1d[2:]\n",
    "# Extract every second element from a 1D array.\n",
    "arr_1d = np.array([10, 20, 30, 40, 50])\n",
    "arr_1d[::2]\n",
    "\n",
    "#Slice the middle 2x2 block from a 4x4 matrix.\n",
    "matrix_4x4 = np.array([[1, 2, 3, 4],\n",
    "                       [5, 6, 7, 8],\n",
    "                       [9, 10, 11, 12],\n",
    "                       [13, 14, 15, 16]])\n",
    "matrix_4x4[1:3, 1:3]\n",
    "\n",
    "# Reverse the order of elements in a 1D array using slicing.\n",
    "arr_1d = np.array([10, 20, 30, 40, 50])\n",
    "arr_1d[::-1]\n",
    "\n",
    " # Extract the first two columns and last two rows from a 4x4 array.\n",
    "matrix_4x4 = np.array([[1, 2, 3, 4],\n",
    "                       [5, 6, 7, 8],\n",
    "                       [9, 10, 11, 12],\n",
    "                       [13, 14, 15, 16]])\n",
    "matrix_4x4[2:,:2]\n",
    "\n",
    "# Slice a 2D array to get all elements except the first row.\n",
    "matrix_4x4 = np.array([[1, 2, 3, 4],\n",
    "                       [5, 6, 7, 8],\n",
    "                       [9, 10, 11, 12],\n",
    "                       [13, 14, 15, 16]])\n",
    "matrix_4x4[1:]\n",
    "\n",
    "# Slice a 3D array to get all elements from the first plane.\n",
    "array_3d = np.array([[[1, 2, 3],\n",
    "                      [4, 5, 6]],\n",
    "                     \n",
    "                     [[7, 8, 9],\n",
    "                      [10, 11, 12]],\n",
    "                     \n",
    "                     [[13, 14, 15],\n",
    "                      [16, 17, 18]]])\n",
    "array_3d[0]"
   ]
  },
  {
   "cell_type": "code",
   "execution_count": 92,
   "id": "0ca5bcfc-66c7-4e8b-82df-8a5a8d080b35",
   "metadata": {},
   "outputs": [
    {
     "name": "stdout",
     "output_type": "stream",
     "text": [
      "Mixed data type array: ['1' 'two' '3.0']\n",
      "Data type of mixed array: <U32\n"
     ]
    }
   ],
   "source": [
    "# Create a NumPy array with mixed data types\n",
    "mixed_array = np.array([1, 'two', 3.0])\n",
    "\n",
    "# Identify the type of the array\n",
    "mixed_dtype = mixed_array.dtype\n",
    "\n",
    "print(\"Mixed data type array:\", mixed_array)\n",
    "print(\"Data type of mixed array:\", mixed_dtype)\n"
   ]
  },
  {
   "cell_type": "markdown",
   "id": "1374477a-0ef4-4703-ad79-9270be5361df",
   "metadata": {},
   "source": [
    "## copy vs view"
   ]
  },
  {
   "cell_type": "code",
   "execution_count": 99,
   "id": "2f852b33-e970-4c6a-b53d-4aaaad8b221d",
   "metadata": {},
   "outputs": [
    {
     "data": {
      "text/plain": [
       "(array([[ 1, 20,  3,  4],\n",
       "        [ 5,  6,  7,  8],\n",
       "        [ 9, 10, 11, 12],\n",
       "        [13, 14, 15, 16]]),\n",
       " array([[ 1, 20,  3,  4],\n",
       "        [ 5,  6,  7,  8],\n",
       "        [ 9, 10, 11, 12],\n",
       "        [13, 14, 15, 16]]))"
      ]
     },
     "execution_count": 99,
     "metadata": {},
     "output_type": "execute_result"
    }
   ],
   "source": [
    "# Create a 1D array and make a copy of it. Modify the copy and check if the original changes.\n",
    "# Create a 2D array and make a view of it. Modify the view and check if the original changes.\n",
    "# Explain the difference between a copy and a view with an example.\n",
    "# Create a view of an array and modify it. Observe how the original array is affected.\n",
    "# Create a copy of a sliced array and modify the copy. Does the original array change?\n",
    "# Check if a given array is a view or a copy of another array.\n",
    "# Use the .base attribute to check the relationship between the original array and its view.\n",
    "# Create a view of a large array and modify a small portion. Check memory usage compared to a copy.\n",
    "# Create a copy of an array and change its shape. Does it affect the original array?\n",
    "# Use the np.copy() function to create a deep copy of a nested array and modify it.\n",
    "\n",
    "# Create a 1D array and make a copy of it. Modify the copy and check if the original changes.\n",
    "arr_1d = np.array([10, 20, 30, 40, 50])\n",
    "arr2 =arr_1d.copy()\n",
    "arr2[0]=60\n",
    "arr2\n",
    "\n",
    "# Create a 2D array and make a view of it. Modify the view and check if the original changes.\n",
    "arr2d= np.array([[1, 2, 3, 4],\n",
    "                       [5, 6, 7, 8],\n",
    "                       [9, 10, 11, 12],\n",
    "                       [13, 14, 15, 16]])\n",
    "v_arr=arr2d.view()\n",
    "v_arr[0,1]=20\n",
    "arr2d,v_arr"
   ]
  },
  {
   "cell_type": "code",
   "execution_count": 101,
   "id": "aa69e34b-fdd5-4cc3-97ef-841c5adcf2b6",
   "metadata": {},
   "outputs": [
    {
     "name": "stdout",
     "output_type": "stream",
     "text": [
      "Shape of transposed matrix: (3, 2)\n"
     ]
    },
    {
     "data": {
      "text/plain": [
       "array([[1, 4],\n",
       "       [2, 5],\n",
       "       [3, 6]])"
      ]
     },
     "execution_count": 101,
     "metadata": {},
     "output_type": "execute_result"
    }
   ],
   "source": [
    "# Create a 2D array\n",
    "array_2d = np.array([[1, 2, 3],\n",
    "                     [4, 5, 6]])\n",
    "\n",
    "# Transpose the matrix\n",
    "transposed_array = array_2d.T\n",
    "\n",
    "# Check its shape\n",
    "print(\"Shape of transposed matrix:\", transposed_array.shape)\n",
    "transposed_array"
   ]
  },
  {
   "cell_type": "code",
   "execution_count": 102,
   "id": "67de4563-7a9a-4d83-8f96-1e9b8994ebb7",
   "metadata": {},
   "outputs": [
    {
     "data": {
      "text/plain": [
       "array([[1, 2, 3],\n",
       "       [4, 5, 6]])"
      ]
     },
     "execution_count": 102,
     "metadata": {},
     "output_type": "execute_result"
    }
   ],
   "source": [
    "array_2d"
   ]
  },
  {
   "cell_type": "code",
   "execution_count": null,
   "id": "e641c4f7-3756-40f6-bd8e-2bc687c37e89",
   "metadata": {},
   "outputs": [],
   "source": []
  }
 ],
 "metadata": {
  "kernelspec": {
   "display_name": "Python 3 (ipykernel)",
   "language": "python",
   "name": "python3"
  },
  "language_info": {
   "codemirror_mode": {
    "name": "ipython",
    "version": 3
   },
   "file_extension": ".py",
   "mimetype": "text/x-python",
   "name": "python",
   "nbconvert_exporter": "python",
   "pygments_lexer": "ipython3",
   "version": "3.8.10"
  }
 },
 "nbformat": 4,
 "nbformat_minor": 5
}
