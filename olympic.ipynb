{
 "cells": [
  {
   "cell_type": "code",
   "execution_count": 298,
   "id": "6b1b3ba8-5557-4503-a5ce-855ab1cf9d2d",
   "metadata": {},
   "outputs": [],
   "source": [
    "#analyze athlete data to understand trends in participation, characteristics of athletes, and their distribution across different countries and years.\n",
    "\n",
    "import pandas as pd\n",
    "import numpy as np\n"
   ]
  },
  {
   "cell_type": "code",
   "execution_count": 265,
   "id": "c17cba83-1545-49ce-bf03-88fe131d0c76",
   "metadata": {},
   "outputs": [
    {
     "name": "stdout",
     "output_type": "stream",
     "text": [
      "Defaulting to user installation because normal site-packages is not writeable\n",
      "Requirement already satisfied: pandas in /home/developer/.local/lib/python3.10/site-packages (2.2.2)\n",
      "Requirement already satisfied: numpy in /home/developer/.local/lib/python3.10/site-packages (2.0.1)\n",
      "Requirement already satisfied: python-dateutil>=2.8.2 in /home/developer/.local/lib/python3.10/site-packages (from pandas) (2.9.0.post0)\n",
      "Requirement already satisfied: pytz>=2020.1 in /usr/lib/python3/dist-packages (from pandas) (2022.1)\n",
      "Requirement already satisfied: tzdata>=2022.7 in /home/developer/.local/lib/python3.10/site-packages (from pandas) (2024.1)\n",
      "Requirement already satisfied: six>=1.5 in /usr/lib/python3/dist-packages (from python-dateutil>=2.8.2->pandas) (1.16.0)\n"
     ]
    }
   ],
   "source": [
    "!pip install pandas numpy\n"
   ]
  },
  {
   "cell_type": "code",
   "execution_count": 299,
   "id": "8c315481-9ae1-419e-b6c2-6a0f977d854d",
   "metadata": {},
   "outputs": [],
   "source": [
    "data = pd.read_csv('Olympic_Athlete_Bio.csv')"
   ]
  },
  {
   "cell_type": "code",
   "execution_count": 300,
   "id": "08eadba8-f806-4783-999e-521175f25804",
   "metadata": {},
   "outputs": [],
   "source": [
    "df = data.copy()"
   ]
  },
  {
   "cell_type": "code",
   "execution_count": 301,
   "id": "ae1a284e-5d00-4c3d-96ca-6dc1b86b3aba",
   "metadata": {},
   "outputs": [
    {
     "data": {
      "text/html": [
       "<div>\n",
       "<style scoped>\n",
       "    .dataframe tbody tr th:only-of-type {\n",
       "        vertical-align: middle;\n",
       "    }\n",
       "\n",
       "    .dataframe tbody tr th {\n",
       "        vertical-align: top;\n",
       "    }\n",
       "\n",
       "    .dataframe thead th {\n",
       "        text-align: right;\n",
       "    }\n",
       "</style>\n",
       "<table border=\"1\" class=\"dataframe\">\n",
       "  <thead>\n",
       "    <tr style=\"text-align: right;\">\n",
       "      <th></th>\n",
       "      <th>athlete_id</th>\n",
       "      <th>name</th>\n",
       "      <th>sex</th>\n",
       "      <th>born</th>\n",
       "      <th>height</th>\n",
       "      <th>weight</th>\n",
       "      <th>country</th>\n",
       "      <th>country_noc</th>\n",
       "      <th>description</th>\n",
       "      <th>special_notes</th>\n",
       "    </tr>\n",
       "  </thead>\n",
       "  <tbody>\n",
       "    <tr>\n",
       "      <th>0</th>\n",
       "      <td>65649</td>\n",
       "      <td>Ivanka Bonova</td>\n",
       "      <td>Female</td>\n",
       "      <td>4 April 1949</td>\n",
       "      <td>166.0</td>\n",
       "      <td>55</td>\n",
       "      <td>Bulgaria</td>\n",
       "      <td>BUL</td>\n",
       "      <td>Personal Best: 400 – 53.54 (1980).</td>\n",
       "      <td>NaN</td>\n",
       "    </tr>\n",
       "    <tr>\n",
       "      <th>1</th>\n",
       "      <td>112510</td>\n",
       "      <td>Nataliya Uryadova</td>\n",
       "      <td>Female</td>\n",
       "      <td>15 March 1977</td>\n",
       "      <td>184.0</td>\n",
       "      <td>70</td>\n",
       "      <td>Russian Federation</td>\n",
       "      <td>RUS</td>\n",
       "      <td>NaN</td>\n",
       "      <td>Listed in Olympians Who Won a Medal at the Eur...</td>\n",
       "    </tr>\n",
       "    <tr>\n",
       "      <th>2</th>\n",
       "      <td>114973</td>\n",
       "      <td>Essa Ismail Rashed</td>\n",
       "      <td>Male</td>\n",
       "      <td>14 December 1986</td>\n",
       "      <td>165.0</td>\n",
       "      <td>55</td>\n",
       "      <td>Qatar</td>\n",
       "      <td>QAT</td>\n",
       "      <td>Personal Best: 10000 – 27:20.97 (2006).</td>\n",
       "      <td>Listed in Olympians Who Won a Medal at the Asi...</td>\n",
       "    </tr>\n",
       "    <tr>\n",
       "      <th>3</th>\n",
       "      <td>30359</td>\n",
       "      <td>Péter Boros</td>\n",
       "      <td>Male</td>\n",
       "      <td>12 January 1908</td>\n",
       "      <td>NaN</td>\n",
       "      <td>NaN</td>\n",
       "      <td>Hungary</td>\n",
       "      <td>HUN</td>\n",
       "      <td>Between 1927 and 1938, Péter Boros competed as...</td>\n",
       "      <td>NaN</td>\n",
       "    </tr>\n",
       "    <tr>\n",
       "      <th>4</th>\n",
       "      <td>50557</td>\n",
       "      <td>Rudolf Piowatý</td>\n",
       "      <td>Male</td>\n",
       "      <td>28 April 1900</td>\n",
       "      <td>NaN</td>\n",
       "      <td>NaN</td>\n",
       "      <td>Czechoslovakia</td>\n",
       "      <td>TCH</td>\n",
       "      <td>Rudolf Piowaty joined the Czechoslovak militar...</td>\n",
       "      <td>NaN</td>\n",
       "    </tr>\n",
       "    <tr>\n",
       "      <th>5</th>\n",
       "      <td>146111</td>\n",
       "      <td>Svetlana Kholomina</td>\n",
       "      <td>Female</td>\n",
       "      <td>9 November 1997</td>\n",
       "      <td>NaN</td>\n",
       "      <td>NaN</td>\n",
       "      <td>ROC</td>\n",
       "      <td>ROC</td>\n",
       "      <td>NaN</td>\n",
       "      <td>NaN</td>\n",
       "    </tr>\n",
       "    <tr>\n",
       "      <th>6</th>\n",
       "      <td>133041</td>\n",
       "      <td>Vincent Riendeau</td>\n",
       "      <td>Male</td>\n",
       "      <td>13 December 1996</td>\n",
       "      <td>178.0</td>\n",
       "      <td>68</td>\n",
       "      <td>Canada</td>\n",
       "      <td>CAN</td>\n",
       "      <td>NaN</td>\n",
       "      <td>Listed in Olympians Who Won a Medal at the Sum...</td>\n",
       "    </tr>\n",
       "  </tbody>\n",
       "</table>\n",
       "</div>"
      ],
      "text/plain": [
       "   athlete_id                name     sex              born  height weight  \\\n",
       "0       65649       Ivanka Bonova  Female      4 April 1949   166.0     55   \n",
       "1      112510   Nataliya Uryadova  Female     15 March 1977   184.0     70   \n",
       "2      114973  Essa Ismail Rashed    Male  14 December 1986   165.0     55   \n",
       "3       30359         Péter Boros    Male   12 January 1908     NaN    NaN   \n",
       "4       50557      Rudolf Piowatý    Male     28 April 1900     NaN    NaN   \n",
       "5      146111  Svetlana Kholomina  Female   9 November 1997     NaN    NaN   \n",
       "6      133041    Vincent Riendeau    Male  13 December 1996   178.0     68   \n",
       "\n",
       "               country country_noc  \\\n",
       "0             Bulgaria         BUL   \n",
       "1   Russian Federation         RUS   \n",
       "2                Qatar         QAT   \n",
       "3              Hungary         HUN   \n",
       "4       Czechoslovakia         TCH   \n",
       "5                  ROC         ROC   \n",
       "6               Canada         CAN   \n",
       "\n",
       "                                         description  \\\n",
       "0                 Personal Best: 400 – 53.54 (1980).   \n",
       "1                                                NaN   \n",
       "2            Personal Best: 10000 – 27:20.97 (2006).   \n",
       "3  Between 1927 and 1938, Péter Boros competed as...   \n",
       "4  Rudolf Piowaty joined the Czechoslovak militar...   \n",
       "5                                                NaN   \n",
       "6                                                NaN   \n",
       "\n",
       "                                       special_notes  \n",
       "0                                                NaN  \n",
       "1  Listed in Olympians Who Won a Medal at the Eur...  \n",
       "2  Listed in Olympians Who Won a Medal at the Asi...  \n",
       "3                                                NaN  \n",
       "4                                                NaN  \n",
       "5                                                NaN  \n",
       "6  Listed in Olympians Who Won a Medal at the Sum...  "
      ]
     },
     "execution_count": 301,
     "metadata": {},
     "output_type": "execute_result"
    }
   ],
   "source": [
    "df.head(7)"
   ]
  },
  {
   "cell_type": "code",
   "execution_count": 302,
   "id": "17741561-f94d-4d25-ad86-f77b0f25bc3c",
   "metadata": {},
   "outputs": [
    {
     "data": {
      "text/plain": [
       "Index(['athlete_id', 'name', 'sex', 'born', 'height', 'weight', 'country',\n",
       "       'country_noc', 'description', 'special_notes'],\n",
       "      dtype='object')"
      ]
     },
     "execution_count": 302,
     "metadata": {},
     "output_type": "execute_result"
    }
   ],
   "source": [
    "df.columns"
   ]
  },
  {
   "cell_type": "code",
   "execution_count": 303,
   "id": "8636fbf0-1e16-4e02-a4e8-82d6e40c3aef",
   "metadata": {},
   "outputs": [
    {
     "name": "stdout",
     "output_type": "stream",
     "text": [
      "<class 'pandas.core.frame.DataFrame'>\n",
      "RangeIndex: 155861 entries, 0 to 155860\n",
      "Data columns (total 10 columns):\n",
      " #   Column         Non-Null Count   Dtype  \n",
      "---  ------         --------------   -----  \n",
      " 0   athlete_id     155861 non-null  int64  \n",
      " 1   name           155861 non-null  object \n",
      " 2   sex            155861 non-null  object \n",
      " 3   born           151808 non-null  object \n",
      " 4   height         105112 non-null  float64\n",
      " 5   weight         105112 non-null  object \n",
      " 6   country        155861 non-null  object \n",
      " 7   country_noc    155861 non-null  object \n",
      " 8   description    54863 non-null   object \n",
      " 9   special_notes  60637 non-null   object \n",
      "dtypes: float64(1), int64(1), object(8)\n",
      "memory usage: 11.9+ MB\n"
     ]
    }
   ],
   "source": [
    "df.info()"
   ]
  },
  {
   "cell_type": "code",
   "execution_count": 304,
   "id": "45fe10c9-8f85-428f-aeaa-38b9f9a63e8d",
   "metadata": {},
   "outputs": [
    {
     "data": {
      "text/html": [
       "<div>\n",
       "<style scoped>\n",
       "    .dataframe tbody tr th:only-of-type {\n",
       "        vertical-align: middle;\n",
       "    }\n",
       "\n",
       "    .dataframe tbody tr th {\n",
       "        vertical-align: top;\n",
       "    }\n",
       "\n",
       "    .dataframe thead th {\n",
       "        text-align: right;\n",
       "    }\n",
       "</style>\n",
       "<table border=\"1\" class=\"dataframe\">\n",
       "  <thead>\n",
       "    <tr style=\"text-align: right;\">\n",
       "      <th></th>\n",
       "      <th>athlete_id</th>\n",
       "      <th>height</th>\n",
       "    </tr>\n",
       "  </thead>\n",
       "  <tbody>\n",
       "    <tr>\n",
       "      <th>count</th>\n",
       "      <td>1.558610e+05</td>\n",
       "      <td>105112.000000</td>\n",
       "    </tr>\n",
       "    <tr>\n",
       "      <th>mean</th>\n",
       "      <td>1.571606e+05</td>\n",
       "      <td>176.327194</td>\n",
       "    </tr>\n",
       "    <tr>\n",
       "      <th>std</th>\n",
       "      <td>3.274205e+05</td>\n",
       "      <td>10.355980</td>\n",
       "    </tr>\n",
       "    <tr>\n",
       "      <th>min</th>\n",
       "      <td>1.000000e+00</td>\n",
       "      <td>127.000000</td>\n",
       "    </tr>\n",
       "    <tr>\n",
       "      <th>25%</th>\n",
       "      <td>3.927100e+04</td>\n",
       "      <td>170.000000</td>\n",
       "    </tr>\n",
       "    <tr>\n",
       "      <th>50%</th>\n",
       "      <td>7.852900e+04</td>\n",
       "      <td>176.000000</td>\n",
       "    </tr>\n",
       "    <tr>\n",
       "      <th>75%</th>\n",
       "      <td>1.189230e+05</td>\n",
       "      <td>183.000000</td>\n",
       "    </tr>\n",
       "    <tr>\n",
       "      <th>max</th>\n",
       "      <td>2.200000e+07</td>\n",
       "      <td>226.000000</td>\n",
       "    </tr>\n",
       "  </tbody>\n",
       "</table>\n",
       "</div>"
      ],
      "text/plain": [
       "         athlete_id         height\n",
       "count  1.558610e+05  105112.000000\n",
       "mean   1.571606e+05     176.327194\n",
       "std    3.274205e+05      10.355980\n",
       "min    1.000000e+00     127.000000\n",
       "25%    3.927100e+04     170.000000\n",
       "50%    7.852900e+04     176.000000\n",
       "75%    1.189230e+05     183.000000\n",
       "max    2.200000e+07     226.000000"
      ]
     },
     "execution_count": 304,
     "metadata": {},
     "output_type": "execute_result"
    }
   ],
   "source": [
    "df.describe()"
   ]
  },
  {
   "cell_type": "code",
   "execution_count": 305,
   "id": "947a2763-1e0a-4743-80c4-3647275142d5",
   "metadata": {},
   "outputs": [
    {
     "data": {
      "text/plain": [
       "athlete_id            0\n",
       "name                  0\n",
       "sex                   0\n",
       "born               4053\n",
       "height            50749\n",
       "weight            50749\n",
       "country               0\n",
       "country_noc           0\n",
       "description      100998\n",
       "special_notes     95224\n",
       "dtype: int64"
      ]
     },
     "execution_count": 305,
     "metadata": {},
     "output_type": "execute_result"
    }
   ],
   "source": [
    "df.isna().sum()"
   ]
  },
  {
   "cell_type": "code",
   "execution_count": 306,
   "id": "6f1c3bc6-9cac-4161-8748-ca7835bc8f5b",
   "metadata": {},
   "outputs": [
    {
     "data": {
      "text/plain": [
       "0              4 April 1949\n",
       "1             15 March 1977\n",
       "2          14 December 1986\n",
       "3           12 January 1908\n",
       "4             28 April 1900\n",
       "                ...        \n",
       "155856       8 January 1946\n",
       "155857           2 May 1938\n",
       "155858    19 September 1885\n",
       "155859      13 January 1954\n",
       "155860         22 June 1969\n",
       "Name: born, Length: 155861, dtype: object"
      ]
     },
     "execution_count": 306,
     "metadata": {},
     "output_type": "execute_result"
    }
   ],
   "source": [
    "df['born']"
   ]
  },
  {
   "cell_type": "code",
   "execution_count": 307,
   "id": "55d32032-11cf-45d0-8ca5-db225b5662c4",
   "metadata": {},
   "outputs": [
    {
     "data": {
      "text/plain": [
       "athlete_id            0\n",
       "name                  0\n",
       "sex                   0\n",
       "born               4053\n",
       "height            50749\n",
       "weight            50749\n",
       "country               0\n",
       "country_noc           0\n",
       "description      100998\n",
       "special_notes     95224\n",
       "dtype: int64"
      ]
     },
     "execution_count": 307,
     "metadata": {},
     "output_type": "execute_result"
    }
   ],
   "source": [
    "df.isna().sum()"
   ]
  },
  {
   "cell_type": "code",
   "execution_count": 308,
   "id": "451213a2-da06-4dfa-967a-e9e9cdcb40d5",
   "metadata": {},
   "outputs": [],
   "source": [
    "df['born'] = pd.to_datetime(df['born'], format='%d %B %Y', errors='coerce')\n",
    "\n",
    "# Format 'born' as 'DD-MM-YYYY'\n",
    "df['born'] = df['born'].dt.strftime('%d-%m-%Y')\n"
   ]
  },
  {
   "cell_type": "code",
   "execution_count": 309,
   "id": "993504b6-0b4c-4b7b-85d5-6bb889dae171",
   "metadata": {},
   "outputs": [],
   "source": [
    "# pd.to_datetime(df['born'],format='%d-%B-%Y', errors='coerce')"
   ]
  },
  {
   "cell_type": "code",
   "execution_count": 310,
   "id": "9b8f76d0-c5ba-41f7-a57c-a1f6a967f90c",
   "metadata": {},
   "outputs": [
    {
     "data": {
      "text/plain": [
       "0         04-04-1949\n",
       "1         15-03-1977\n",
       "2         14-12-1986\n",
       "3         12-01-1908\n",
       "4         28-04-1900\n",
       "             ...    \n",
       "155856    08-01-1946\n",
       "155857    02-05-1938\n",
       "155858    19-09-1885\n",
       "155859    13-01-1954\n",
       "155860    22-06-1969\n",
       "Name: born, Length: 155861, dtype: object"
      ]
     },
     "execution_count": 310,
     "metadata": {},
     "output_type": "execute_result"
    }
   ],
   "source": [
    "df['born']"
   ]
  },
  {
   "cell_type": "code",
   "execution_count": 311,
   "id": "a8820746-1a16-4049-8eb4-26bf31131afa",
   "metadata": {},
   "outputs": [
    {
     "name": "stderr",
     "output_type": "stream",
     "text": [
      "/tmp/ipykernel_3792/2757513785.py:1: FutureWarning: Series.fillna with 'method' is deprecated and will raise in a future version. Use obj.ffill() or obj.bfill() instead.\n",
      "  df['born']= df['born'].fillna(method ='ffill')\n",
      "/tmp/ipykernel_3792/2757513785.py:2: FutureWarning: Series.fillna with 'method' is deprecated and will raise in a future version. Use obj.ffill() or obj.bfill() instead.\n",
      "  df['born']=df['born'].fillna(method = 'bfill')\n"
     ]
    }
   ],
   "source": [
    "df['born']= df['born'].fillna(method ='ffill')\n",
    "df['born']=df['born'].fillna(method = 'bfill')"
   ]
  },
  {
   "cell_type": "code",
   "execution_count": 312,
   "id": "fce76214-98b7-4a9a-93ac-cf12c8c9358d",
   "metadata": {},
   "outputs": [],
   "source": [
    "df['born'] = pd.to_datetime(df['born'], format='%d-%m-%Y', errors='coerce')"
   ]
  },
  {
   "cell_type": "code",
   "execution_count": 313,
   "id": "8c44feb7-0064-4779-85f7-6ab31d7c4d9a",
   "metadata": {},
   "outputs": [
    {
     "data": {
      "text/plain": [
       "0        1949-04-04\n",
       "1        1977-03-15\n",
       "2        1986-12-14\n",
       "3        1908-01-12\n",
       "4        1900-04-28\n",
       "            ...    \n",
       "155856   1946-01-08\n",
       "155857   1938-05-02\n",
       "155858   1885-09-19\n",
       "155859   1954-01-13\n",
       "155860   1969-06-22\n",
       "Name: born, Length: 155861, dtype: datetime64[ns]"
      ]
     },
     "execution_count": 313,
     "metadata": {},
     "output_type": "execute_result"
    }
   ],
   "source": [
    "df['born']"
   ]
  },
  {
   "cell_type": "code",
   "execution_count": 314,
   "id": "acc088b8-d538-4466-abb4-c7b77f0892f0",
   "metadata": {},
   "outputs": [
    {
     "data": {
      "text/plain": [
       "np.int64(0)"
      ]
     },
     "execution_count": 314,
     "metadata": {},
     "output_type": "execute_result"
    }
   ],
   "source": [
    "df['born'].isna().sum()"
   ]
  },
  {
   "cell_type": "code",
   "execution_count": 315,
   "id": "b601e8a9-0da9-4d1d-8067-b882885c35af",
   "metadata": {},
   "outputs": [
    {
     "data": {
      "text/plain": [
       "0         1949-04\n",
       "1         1977-03\n",
       "2         1986-12\n",
       "3         1908-01\n",
       "4         1900-04\n",
       "           ...   \n",
       "155856    1946-01\n",
       "155857    1938-05\n",
       "155858    1885-09\n",
       "155859    1954-01\n",
       "155860    1969-06\n",
       "Name: born_period, Length: 155861, dtype: period[M]"
      ]
     },
     "execution_count": 315,
     "metadata": {},
     "output_type": "execute_result"
    }
   ],
   "source": [
    "df['born_period'] = df['born'].dt.to_period('M')\n",
    "df['born_period'] "
   ]
  },
  {
   "cell_type": "code",
   "execution_count": 316,
   "id": "93a1e885-09fa-4353-9455-56dee0ed0ce9",
   "metadata": {},
   "outputs": [
    {
     "data": {
      "text/plain": [
       "0         1949\n",
       "1         1977\n",
       "2         1986\n",
       "3         1908\n",
       "4         1900\n",
       "          ... \n",
       "155856    1946\n",
       "155857    1938\n",
       "155858    1885\n",
       "155859    1954\n",
       "155860    1969\n",
       "Name: year, Length: 155861, dtype: int32"
      ]
     },
     "execution_count": 316,
     "metadata": {},
     "output_type": "execute_result"
    }
   ],
   "source": [
    "df['year'] = df['born'].dt.year\n",
    "df['year']"
   ]
  },
  {
   "cell_type": "code",
   "execution_count": 317,
   "id": "b3244e01-8715-4156-972f-8fdd2a05025b",
   "metadata": {},
   "outputs": [
    {
     "data": {
      "text/html": [
       "<div>\n",
       "<style scoped>\n",
       "    .dataframe tbody tr th:only-of-type {\n",
       "        vertical-align: middle;\n",
       "    }\n",
       "\n",
       "    .dataframe tbody tr th {\n",
       "        vertical-align: top;\n",
       "    }\n",
       "\n",
       "    .dataframe thead th {\n",
       "        text-align: right;\n",
       "    }\n",
       "</style>\n",
       "<table border=\"1\" class=\"dataframe\">\n",
       "  <thead>\n",
       "    <tr style=\"text-align: right;\">\n",
       "      <th></th>\n",
       "      <th>year</th>\n",
       "      <th>sex</th>\n",
       "      <th>participation</th>\n",
       "    </tr>\n",
       "  </thead>\n",
       "  <tbody>\n",
       "    <tr>\n",
       "      <th>0</th>\n",
       "      <td>1828</td>\n",
       "      <td>Male</td>\n",
       "      <td>1</td>\n",
       "    </tr>\n",
       "    <tr>\n",
       "      <th>1</th>\n",
       "      <td>1830</td>\n",
       "      <td>Male</td>\n",
       "      <td>1</td>\n",
       "    </tr>\n",
       "    <tr>\n",
       "      <th>2</th>\n",
       "      <td>1831</td>\n",
       "      <td>Male</td>\n",
       "      <td>3</td>\n",
       "    </tr>\n",
       "    <tr>\n",
       "      <th>3</th>\n",
       "      <td>1833</td>\n",
       "      <td>Male</td>\n",
       "      <td>2</td>\n",
       "    </tr>\n",
       "    <tr>\n",
       "      <th>4</th>\n",
       "      <td>1836</td>\n",
       "      <td>Male</td>\n",
       "      <td>2</td>\n",
       "    </tr>\n",
       "    <tr>\n",
       "      <th>...</th>\n",
       "      <td>...</td>\n",
       "      <td>...</td>\n",
       "      <td>...</td>\n",
       "    </tr>\n",
       "    <tr>\n",
       "      <th>333</th>\n",
       "      <td>2006</td>\n",
       "      <td>Male</td>\n",
       "      <td>2</td>\n",
       "    </tr>\n",
       "    <tr>\n",
       "      <th>334</th>\n",
       "      <td>2007</td>\n",
       "      <td>Female</td>\n",
       "      <td>3</td>\n",
       "    </tr>\n",
       "    <tr>\n",
       "      <th>335</th>\n",
       "      <td>2008</td>\n",
       "      <td>Female</td>\n",
       "      <td>3</td>\n",
       "    </tr>\n",
       "    <tr>\n",
       "      <th>336</th>\n",
       "      <td>2009</td>\n",
       "      <td>Female</td>\n",
       "      <td>1</td>\n",
       "    </tr>\n",
       "    <tr>\n",
       "      <th>337</th>\n",
       "      <td>2009</td>\n",
       "      <td>Male</td>\n",
       "      <td>1</td>\n",
       "    </tr>\n",
       "  </tbody>\n",
       "</table>\n",
       "<p>338 rows × 3 columns</p>\n",
       "</div>"
      ],
      "text/plain": [
       "     year     sex  participation\n",
       "0    1828    Male              1\n",
       "1    1830    Male              1\n",
       "2    1831    Male              3\n",
       "3    1833    Male              2\n",
       "4    1836    Male              2\n",
       "..    ...     ...            ...\n",
       "333  2006    Male              2\n",
       "334  2007  Female              3\n",
       "335  2008  Female              3\n",
       "336  2009  Female              1\n",
       "337  2009    Male              1\n",
       "\n",
       "[338 rows x 3 columns]"
      ]
     },
     "execution_count": 317,
     "metadata": {},
     "output_type": "execute_result"
    }
   ],
   "source": [
    "year_grpby = df.groupby(['year','sex']).size().reset_index(name='count')\n",
    "year_grpby.columns = ['year','sex','participation']\n",
    "year_grpby"
   ]
  },
  {
   "cell_type": "code",
   "execution_count": 318,
   "id": "fec9f0dc-52f2-4a09-bb89-ac5bae702467",
   "metadata": {},
   "outputs": [],
   "source": [
    "import matplotlib.pyplot as plt\n",
    "import seaborn as sns"
   ]
  },
  {
   "cell_type": "code",
   "execution_count": 322,
   "id": "8706f7c3-5014-4d61-855f-fbd5ba702ada",
   "metadata": {},
   "outputs": [
    {
     "data": {
      "image/png": "[encoded data removed]",
      "text/plain": [
       "<Figure size 1400x400 with 1 Axes>"
      ]
     },
     "metadata": {},
     "output_type": "display_data"
    }
   ],
   "source": [
    "plt.figure(figsize =(14,4))\n",
    "# Plot data\n",
    "for sex in year_grpby['sex'].unique():\n",
    "    subset = year_grpby[year_grpby['sex'] == sex]\n",
    "    plt.bar(subset['year'], subset['participation'], label=sex)\n",
    "# Add labels and title\n",
    "plt.xlabel('Year')\n",
    "plt.ylabel('participation')\n",
    "plt.title('Number of Participants by Year and Sex')\n",
    "plt.legend(title='Sex')\n",
    "\n",
    "# Show the plot\n",
    "plt.xticks(rotation=90)\n",
    "plt.tight_layout()\n",
    "plt.show()"
   ]
  },
  {
   "cell_type": "code",
   "execution_count": 323,
   "id": "ca58f7b4-f640-4db8-ae1a-5ec0dc3db63d",
   "metadata": {},
   "outputs": [
    {
     "name": "stdout",
     "output_type": "stream",
     "text": [
      "year    1828  1830  1831  1833  1836  1837  1838  1839  1840  1841  ...  \\\n",
      "sex                                                                 ...   \n",
      "Female   NaN   NaN   NaN   NaN   NaN   NaN   NaN   NaN   1.0   NaN  ...   \n",
      "Male     1.0   1.0   3.0   2.0   2.0   1.0   3.0   1.0   2.0   3.0  ...   \n",
      "\n",
      "year     2000   2001   2002   2003  2004  2005  2006  2007  2008  2009  \n",
      "sex                                                                     \n",
      "Female  393.0  290.0  211.0  123.0  96.0  41.0  15.0   3.0   3.0   1.0  \n",
      "Male    383.0  233.0  124.0   68.0  31.0  11.0   2.0   NaN   NaN   1.0  \n",
      "\n",
      "[2 rows x 178 columns]\n"
     ]
    },
    {
     "ename": "ValueError",
     "evalue": "Unknown format code 'd' for object of type 'float'",
     "output_type": "error",
     "traceback": [
      "\u001b[0;31m---------------------------------------------------------------------------\u001b[0m",
      "\u001b[0;31mValueError\u001b[0m                                Traceback (most recent call last)",
      "Cell \u001b[0;32mIn[323], line 5\u001b[0m\n\u001b[1;32m      3\u001b[0m \u001b[38;5;66;03m# Create a heatmap\u001b[39;00m\n\u001b[1;32m      4\u001b[0m plt\u001b[38;5;241m.\u001b[39mfigure(figsize\u001b[38;5;241m=\u001b[39m(\u001b[38;5;241m12\u001b[39m, \u001b[38;5;241m8\u001b[39m))\n\u001b[0;32m----> 5\u001b[0m \u001b[43msns\u001b[49m\u001b[38;5;241;43m.\u001b[39;49m\u001b[43mheatmap\u001b[49m\u001b[43m(\u001b[49m\u001b[43mpivot_table\u001b[49m\u001b[43m,\u001b[49m\u001b[43m \u001b[49m\u001b[43mannot\u001b[49m\u001b[38;5;241;43m=\u001b[39;49m\u001b[38;5;28;43;01mTrue\u001b[39;49;00m\u001b[43m,\u001b[49m\u001b[43m \u001b[49m\u001b[43mcmap\u001b[49m\u001b[38;5;241;43m=\u001b[39;49m\u001b[38;5;124;43m'\u001b[39;49m\u001b[38;5;124;43mYlGnBu\u001b[39;49m\u001b[38;5;124;43m'\u001b[39;49m\u001b[43m,\u001b[49m\u001b[43m \u001b[49m\u001b[43mfmt\u001b[49m\u001b[38;5;241;43m=\u001b[39;49m\u001b[38;5;124;43m'\u001b[39;49m\u001b[38;5;124;43md\u001b[39;49m\u001b[38;5;124;43m'\u001b[39;49m\u001b[43m)\u001b[49m\n\u001b[1;32m      6\u001b[0m plt\u001b[38;5;241m.\u001b[39mxlabel(\u001b[38;5;124m'\u001b[39m\u001b[38;5;124mYear\u001b[39m\u001b[38;5;124m'\u001b[39m)\n\u001b[1;32m      7\u001b[0m plt\u001b[38;5;241m.\u001b[39mylabel(\u001b[38;5;124m'\u001b[39m\u001b[38;5;124mSex\u001b[39m\u001b[38;5;124m'\u001b[39m)\n",
      "File \u001b[0;32m~/.local/lib/python3.10/site-packages/seaborn/matrix.py:459\u001b[0m, in \u001b[0;36mheatmap\u001b[0;34m(data, vmin, vmax, cmap, center, robust, annot, fmt, annot_kws, linewidths, linecolor, cbar, cbar_kws, cbar_ax, square, xticklabels, yticklabels, mask, ax, **kwargs)\u001b[0m\n\u001b[1;32m    457\u001b[0m \u001b[38;5;28;01mif\u001b[39;00m square:\n\u001b[1;32m    458\u001b[0m     ax\u001b[38;5;241m.\u001b[39mset_aspect(\u001b[38;5;124m\"\u001b[39m\u001b[38;5;124mequal\u001b[39m\u001b[38;5;124m\"\u001b[39m)\n\u001b[0;32m--> 459\u001b[0m \u001b[43mplotter\u001b[49m\u001b[38;5;241;43m.\u001b[39;49m\u001b[43mplot\u001b[49m\u001b[43m(\u001b[49m\u001b[43max\u001b[49m\u001b[43m,\u001b[49m\u001b[43m \u001b[49m\u001b[43mcbar_ax\u001b[49m\u001b[43m,\u001b[49m\u001b[43m \u001b[49m\u001b[43mkwargs\u001b[49m\u001b[43m)\u001b[49m\n\u001b[1;32m    460\u001b[0m \u001b[38;5;28;01mreturn\u001b[39;00m ax\n",
      "File \u001b[0;32m~/.local/lib/python3.10/site-packages/seaborn/matrix.py:352\u001b[0m, in \u001b[0;36m_HeatMapper.plot\u001b[0;34m(self, ax, cax, kws)\u001b[0m\n\u001b[1;32m    350\u001b[0m \u001b[38;5;66;03m# Annotate the cells with the formatted values\u001b[39;00m\n\u001b[1;32m    351\u001b[0m \u001b[38;5;28;01mif\u001b[39;00m \u001b[38;5;28mself\u001b[39m\u001b[38;5;241m.\u001b[39mannot:\n\u001b[0;32m--> 352\u001b[0m     \u001b[38;5;28;43mself\u001b[39;49m\u001b[38;5;241;43m.\u001b[39;49m\u001b[43m_annotate_heatmap\u001b[49m\u001b[43m(\u001b[49m\u001b[43max\u001b[49m\u001b[43m,\u001b[49m\u001b[43m \u001b[49m\u001b[43mmesh\u001b[49m\u001b[43m)\u001b[49m\n",
      "File \u001b[0;32m~/.local/lib/python3.10/site-packages/seaborn/matrix.py:260\u001b[0m, in \u001b[0;36m_HeatMapper._annotate_heatmap\u001b[0;34m(self, ax, mesh)\u001b[0m\n\u001b[1;32m    258\u001b[0m lum \u001b[38;5;241m=\u001b[39m relative_luminance(color)\n\u001b[1;32m    259\u001b[0m text_color \u001b[38;5;241m=\u001b[39m \u001b[38;5;124m\"\u001b[39m\u001b[38;5;124m.15\u001b[39m\u001b[38;5;124m\"\u001b[39m \u001b[38;5;28;01mif\u001b[39;00m lum \u001b[38;5;241m>\u001b[39m \u001b[38;5;241m.408\u001b[39m \u001b[38;5;28;01melse\u001b[39;00m \u001b[38;5;124m\"\u001b[39m\u001b[38;5;124mw\u001b[39m\u001b[38;5;124m\"\u001b[39m\n\u001b[0;32m--> 260\u001b[0m annotation \u001b[38;5;241m=\u001b[39m \u001b[43m(\u001b[49m\u001b[38;5;124;43m\"\u001b[39;49m\u001b[38;5;124;43m{\u001b[39;49m\u001b[38;5;124;43m:\u001b[39;49m\u001b[38;5;124;43m\"\u001b[39;49m\u001b[43m \u001b[49m\u001b[38;5;241;43m+\u001b[39;49m\u001b[43m \u001b[49m\u001b[38;5;28;43mself\u001b[39;49m\u001b[38;5;241;43m.\u001b[39;49m\u001b[43mfmt\u001b[49m\u001b[43m \u001b[49m\u001b[38;5;241;43m+\u001b[39;49m\u001b[43m \u001b[49m\u001b[38;5;124;43m\"\u001b[39;49m\u001b[38;5;124;43m}\u001b[39;49m\u001b[38;5;124;43m\"\u001b[39;49m\u001b[43m)\u001b[49m\u001b[38;5;241;43m.\u001b[39;49m\u001b[43mformat\u001b[49m\u001b[43m(\u001b[49m\u001b[43mval\u001b[49m\u001b[43m)\u001b[49m\n\u001b[1;32m    261\u001b[0m text_kwargs \u001b[38;5;241m=\u001b[39m \u001b[38;5;28mdict\u001b[39m(color\u001b[38;5;241m=\u001b[39mtext_color, ha\u001b[38;5;241m=\u001b[39m\u001b[38;5;124m\"\u001b[39m\u001b[38;5;124mcenter\u001b[39m\u001b[38;5;124m\"\u001b[39m, va\u001b[38;5;241m=\u001b[39m\u001b[38;5;124m\"\u001b[39m\u001b[38;5;124mcenter\u001b[39m\u001b[38;5;124m\"\u001b[39m)\n\u001b[1;32m    262\u001b[0m text_kwargs\u001b[38;5;241m.\u001b[39mupdate(\u001b[38;5;28mself\u001b[39m\u001b[38;5;241m.\u001b[39mannot_kws)\n",
      "\u001b[0;31mValueError\u001b[0m: Unknown format code 'd' for object of type 'float'"
     ]
    },
    {
     "data": {
      "image/png": "[encoded data removed]",
      "text/plain": [
       "<Figure size 1200x800 with 2 Axes>"
      ]
     },
     "metadata": {},
     "output_type": "display_data"
    }
   ],
   "source": [
    "pivot_table = year_grpby.pivot(index='sex', columns='year', values='participation')\n",
    "print(pivot_table)\n",
    "# Create a heatmap\n",
    "plt.figure(figsize=(12, 8))\n",
    "sns.heatmap(pivot_table, annot=True, cmap='YlGnBu', fmt='d')\n",
    "plt.xlabel('Year')\n",
    "plt.ylabel('Sex')\n",
    "plt.title('Heatmap of Participants by Year and Sex')\n",
    "plt.show()"
   ]
  },
  {
   "cell_type": "code",
   "execution_count": 324,
   "id": "96f301df-a430-47dd-bc7d-290fefa1df42",
   "metadata": {},
   "outputs": [
    {
     "name": "stdout",
     "output_type": "stream",
     "text": [
      "<class 'pandas.core.frame.DataFrame'>\n",
      "RangeIndex: 155861 entries, 0 to 155860\n",
      "Data columns (total 12 columns):\n",
      " #   Column         Non-Null Count   Dtype         \n",
      "---  ------         --------------   -----         \n",
      " 0   athlete_id     155861 non-null  int64         \n",
      " 1   name           155861 non-null  object        \n",
      " 2   sex            155861 non-null  object        \n",
      " 3   born           155861 non-null  datetime64[ns]\n",
      " 4   height         105112 non-null  float64       \n",
      " 5   weight         105112 non-null  object        \n",
      " 6   country        155861 non-null  object        \n",
      " 7   country_noc    155861 non-null  object        \n",
      " 8   description    54863 non-null   object        \n",
      " 9   special_notes  60637 non-null   object        \n",
      " 10  born_period    155861 non-null  period[M]     \n",
      " 11  year           155861 non-null  int32         \n",
      "dtypes: datetime64[ns](1), float64(1), int32(1), int64(1), object(7), period[M](1)\n",
      "memory usage: 13.7+ MB\n"
     ]
    }
   ],
   "source": [
    "df.info()"
   ]
  },
  {
   "cell_type": "code",
   "execution_count": 325,
   "id": "9a41aa96-d27f-4abc-9a1a-ffeb58647ea8",
   "metadata": {},
   "outputs": [
    {
     "data": {
      "text/html": [
       "<div>\n",
       "<style scoped>\n",
       "    .dataframe tbody tr th:only-of-type {\n",
       "        vertical-align: middle;\n",
       "    }\n",
       "\n",
       "    .dataframe tbody tr th {\n",
       "        vertical-align: top;\n",
       "    }\n",
       "\n",
       "    .dataframe thead th {\n",
       "        text-align: right;\n",
       "    }\n",
       "</style>\n",
       "<table border=\"1\" class=\"dataframe\">\n",
       "  <thead>\n",
       "    <tr style=\"text-align: right;\">\n",
       "      <th></th>\n",
       "      <th>athlete_id</th>\n",
       "      <th>name</th>\n",
       "      <th>sex</th>\n",
       "      <th>born</th>\n",
       "      <th>height</th>\n",
       "      <th>weight</th>\n",
       "      <th>country</th>\n",
       "      <th>country_noc</th>\n",
       "      <th>description</th>\n",
       "      <th>special_notes</th>\n",
       "      <th>born_period</th>\n",
       "      <th>year</th>\n",
       "    </tr>\n",
       "  </thead>\n",
       "  <tbody>\n",
       "    <tr>\n",
       "      <th>0</th>\n",
       "      <td>65649</td>\n",
       "      <td>Ivanka Bonova</td>\n",
       "      <td>Female</td>\n",
       "      <td>1949-04-04</td>\n",
       "      <td>166.0</td>\n",
       "      <td>55</td>\n",
       "      <td>Bulgaria</td>\n",
       "      <td>BUL</td>\n",
       "      <td>Personal Best: 400 – 53.54 (1980).</td>\n",
       "      <td>NaN</td>\n",
       "      <td>1949-04</td>\n",
       "      <td>1949</td>\n",
       "    </tr>\n",
       "    <tr>\n",
       "      <th>1</th>\n",
       "      <td>112510</td>\n",
       "      <td>Nataliya Uryadova</td>\n",
       "      <td>Female</td>\n",
       "      <td>1977-03-15</td>\n",
       "      <td>184.0</td>\n",
       "      <td>70</td>\n",
       "      <td>Russian Federation</td>\n",
       "      <td>RUS</td>\n",
       "      <td>NaN</td>\n",
       "      <td>Listed in Olympians Who Won a Medal at the Eur...</td>\n",
       "      <td>1977-03</td>\n",
       "      <td>1977</td>\n",
       "    </tr>\n",
       "    <tr>\n",
       "      <th>2</th>\n",
       "      <td>114973</td>\n",
       "      <td>Essa Ismail Rashed</td>\n",
       "      <td>Male</td>\n",
       "      <td>1986-12-14</td>\n",
       "      <td>165.0</td>\n",
       "      <td>55</td>\n",
       "      <td>Qatar</td>\n",
       "      <td>QAT</td>\n",
       "      <td>Personal Best: 10000 – 27:20.97 (2006).</td>\n",
       "      <td>Listed in Olympians Who Won a Medal at the Asi...</td>\n",
       "      <td>1986-12</td>\n",
       "      <td>1986</td>\n",
       "    </tr>\n",
       "  </tbody>\n",
       "</table>\n",
       "</div>"
      ],
      "text/plain": [
       "   athlete_id                name     sex       born  height weight  \\\n",
       "0       65649       Ivanka Bonova  Female 1949-04-04   166.0     55   \n",
       "1      112510   Nataliya Uryadova  Female 1977-03-15   184.0     70   \n",
       "2      114973  Essa Ismail Rashed    Male 1986-12-14   165.0     55   \n",
       "\n",
       "               country country_noc                              description  \\\n",
       "0             Bulgaria         BUL       Personal Best: 400 – 53.54 (1980).   \n",
       "1   Russian Federation         RUS                                      NaN   \n",
       "2                Qatar         QAT  Personal Best: 10000 – 27:20.97 (2006).   \n",
       "\n",
       "                                       special_notes born_period  year  \n",
       "0                                                NaN     1949-04  1949  \n",
       "1  Listed in Olympians Who Won a Medal at the Eur...     1977-03  1977  \n",
       "2  Listed in Olympians Who Won a Medal at the Asi...     1986-12  1986  "
      ]
     },
     "execution_count": 325,
     "metadata": {},
     "output_type": "execute_result"
    }
   ],
   "source": [
    "df.head(3)"
   ]
  },
  {
   "cell_type": "code",
   "execution_count": 326,
   "id": "43cb632d-f439-487c-b988-e808afc0e07f",
   "metadata": {},
   "outputs": [
    {
     "data": {
      "text/plain": [
       "(np.float64(150.5), np.float64(202.5))"
      ]
     },
     "execution_count": 326,
     "metadata": {},
     "output_type": "execute_result"
    }
   ],
   "source": [
    "# outliers remove by IQR (Inter quartile range)\n",
    "\n",
    "# q1 =np.percentile(df,25)\n",
    "# q2= np.percentile(df,75)\n",
    "# iqr = q3 -q1\n",
    "# lower_bound = q1 -1.5* iqr\n",
    "# upper_bound = q3 +1.5*iqr\n",
    "\n",
    "q1=df['height'].quantile(0.25)\n",
    "q3=df['height'].quantile(0.75)\n",
    "iqr=q3-q1\n",
    "lower=q1-1.5*iqr\n",
    "upper=q3+1.5*iqr\n",
    "lower,upper"
   ]
  },
  {
   "cell_type": "code",
   "execution_count": 327,
   "id": "17b4122e-9639-45e3-9461-777628bce01c",
   "metadata": {},
   "outputs": [
    {
     "data": {
      "image/png": "[encoded data removed]",
      "text/plain": [
       "<Figure size 1000x400 with 1 Axes>"
      ]
     },
     "metadata": {},
     "output_type": "display_data"
    },
    {
     "data": {
      "image/png": "[encoded data removed]",
      "text/plain": [
       "<Figure size 1000x400 with 1 Axes>"
      ]
     },
     "metadata": {},
     "output_type": "display_data"
    }
   ],
   "source": [
    "# outliers check\n",
    "for column in df.columns:\n",
    "    if df[column].dtype in ['int64', 'float64']:\n",
    "        plt.figure(figsize=(10, 4))\n",
    "        sns.boxplot(x=df[column])\n",
    "        plt.title(f'Box Plot for {column}')\n",
    "        plt.show()"
   ]
  },
  {
   "cell_type": "code",
   "execution_count": 328,
   "id": "d2fa7aa4-0b03-4df8-a529-e5f6d5acacbd",
   "metadata": {},
   "outputs": [
    {
     "data": {
      "text/html": [
       "<div>\n",
       "<style scoped>\n",
       "    .dataframe tbody tr th:only-of-type {\n",
       "        vertical-align: middle;\n",
       "    }\n",
       "\n",
       "    .dataframe tbody tr th {\n",
       "        vertical-align: top;\n",
       "    }\n",
       "\n",
       "    .dataframe thead th {\n",
       "        text-align: right;\n",
       "    }\n",
       "</style>\n",
       "<table border=\"1\" class=\"dataframe\">\n",
       "  <thead>\n",
       "    <tr style=\"text-align: right;\">\n",
       "      <th></th>\n",
       "      <th>athlete_id</th>\n",
       "      <th>name</th>\n",
       "      <th>sex</th>\n",
       "      <th>born</th>\n",
       "      <th>height</th>\n",
       "      <th>weight</th>\n",
       "      <th>country</th>\n",
       "      <th>country_noc</th>\n",
       "      <th>description</th>\n",
       "      <th>special_notes</th>\n",
       "      <th>born_period</th>\n",
       "      <th>year</th>\n",
       "    </tr>\n",
       "  </thead>\n",
       "  <tbody>\n",
       "    <tr>\n",
       "      <th>0</th>\n",
       "      <td>65649</td>\n",
       "      <td>Ivanka Bonova</td>\n",
       "      <td>Female</td>\n",
       "      <td>1949-04-04</td>\n",
       "      <td>166.0</td>\n",
       "      <td>55</td>\n",
       "      <td>Bulgaria</td>\n",
       "      <td>BUL</td>\n",
       "      <td>Personal Best: 400 – 53.54 (1980).</td>\n",
       "      <td>NaN</td>\n",
       "      <td>1949-04</td>\n",
       "      <td>1949</td>\n",
       "    </tr>\n",
       "    <tr>\n",
       "      <th>1</th>\n",
       "      <td>112510</td>\n",
       "      <td>Nataliya Uryadova</td>\n",
       "      <td>Female</td>\n",
       "      <td>1977-03-15</td>\n",
       "      <td>184.0</td>\n",
       "      <td>70</td>\n",
       "      <td>Russian Federation</td>\n",
       "      <td>RUS</td>\n",
       "      <td>NaN</td>\n",
       "      <td>Listed in Olympians Who Won a Medal at the Eur...</td>\n",
       "      <td>1977-03</td>\n",
       "      <td>1977</td>\n",
       "    </tr>\n",
       "    <tr>\n",
       "      <th>2</th>\n",
       "      <td>114973</td>\n",
       "      <td>Essa Ismail Rashed</td>\n",
       "      <td>Male</td>\n",
       "      <td>1986-12-14</td>\n",
       "      <td>165.0</td>\n",
       "      <td>55</td>\n",
       "      <td>Qatar</td>\n",
       "      <td>QAT</td>\n",
       "      <td>Personal Best: 10000 – 27:20.97 (2006).</td>\n",
       "      <td>Listed in Olympians Who Won a Medal at the Asi...</td>\n",
       "      <td>1986-12</td>\n",
       "      <td>1986</td>\n",
       "    </tr>\n",
       "    <tr>\n",
       "      <th>6</th>\n",
       "      <td>133041</td>\n",
       "      <td>Vincent Riendeau</td>\n",
       "      <td>Male</td>\n",
       "      <td>1996-12-13</td>\n",
       "      <td>178.0</td>\n",
       "      <td>68</td>\n",
       "      <td>Canada</td>\n",
       "      <td>CAN</td>\n",
       "      <td>NaN</td>\n",
       "      <td>Listed in Olympians Who Won a Medal at the Sum...</td>\n",
       "      <td>1996-12</td>\n",
       "      <td>1996</td>\n",
       "    </tr>\n",
       "    <tr>\n",
       "      <th>7</th>\n",
       "      <td>110425</td>\n",
       "      <td>Tanja Morel</td>\n",
       "      <td>Female</td>\n",
       "      <td>1975-10-04</td>\n",
       "      <td>164.0</td>\n",
       "      <td>58</td>\n",
       "      <td>Switzerland</td>\n",
       "      <td>SUI</td>\n",
       "      <td>NaN</td>\n",
       "      <td>Listed in Olympians Who Won a Medal at the Eur...</td>\n",
       "      <td>1975-10</td>\n",
       "      <td>1975</td>\n",
       "    </tr>\n",
       "    <tr>\n",
       "      <th>...</th>\n",
       "      <td>...</td>\n",
       "      <td>...</td>\n",
       "      <td>...</td>\n",
       "      <td>...</td>\n",
       "      <td>...</td>\n",
       "      <td>...</td>\n",
       "      <td>...</td>\n",
       "      <td>...</td>\n",
       "      <td>...</td>\n",
       "      <td>...</td>\n",
       "      <td>...</td>\n",
       "      <td>...</td>\n",
       "    </tr>\n",
       "    <tr>\n",
       "      <th>155854</th>\n",
       "      <td>26283</td>\n",
       "      <td>Muhaisin Al-Jamaan</td>\n",
       "      <td>Male</td>\n",
       "      <td>1966-04-06</td>\n",
       "      <td>175.0</td>\n",
       "      <td>62</td>\n",
       "      <td>Kingdom of Saudi Arabia</td>\n",
       "      <td>KSA</td>\n",
       "      <td>NaN</td>\n",
       "      <td>Listed in Olympians Who Won a Medal at the Asi...</td>\n",
       "      <td>1966-04</td>\n",
       "      <td>1966</td>\n",
       "    </tr>\n",
       "    <tr>\n",
       "      <th>155856</th>\n",
       "      <td>23748</td>\n",
       "      <td>Todd Makler</td>\n",
       "      <td>Male</td>\n",
       "      <td>1946-01-08</td>\n",
       "      <td>183.0</td>\n",
       "      <td>75</td>\n",
       "      <td>United States</td>\n",
       "      <td>USA</td>\n",
       "      <td>Todd Makler grew up in suburban Philadelphia, ...</td>\n",
       "      <td>Brother of Brooke Makler Son of Paul Makler, Sr.</td>\n",
       "      <td>1946-01</td>\n",
       "      <td>1946</td>\n",
       "    </tr>\n",
       "    <tr>\n",
       "      <th>155857</th>\n",
       "      <td>58581</td>\n",
       "      <td>Géza Hollósi</td>\n",
       "      <td>Male</td>\n",
       "      <td>1938-05-02</td>\n",
       "      <td>175.0</td>\n",
       "      <td>79</td>\n",
       "      <td>Hungary</td>\n",
       "      <td>HUN</td>\n",
       "      <td>Géza Hollósi had the following finishes at maj...</td>\n",
       "      <td>NaN</td>\n",
       "      <td>1938-05</td>\n",
       "      <td>1938</td>\n",
       "    </tr>\n",
       "    <tr>\n",
       "      <th>155859</th>\n",
       "      <td>69900</td>\n",
       "      <td>Alexander Thieme</td>\n",
       "      <td>Male</td>\n",
       "      <td>1954-01-13</td>\n",
       "      <td>187.0</td>\n",
       "      <td>84</td>\n",
       "      <td>East Germany</td>\n",
       "      <td>GDR</td>\n",
       "      <td>East German Sprinter Alexander Thieme reached ...</td>\n",
       "      <td>Listed in Olympians Who Won a Medal at the Eur...</td>\n",
       "      <td>1954-01</td>\n",
       "      <td>1954</td>\n",
       "    </tr>\n",
       "    <tr>\n",
       "      <th>155860</th>\n",
       "      <td>74003</td>\n",
       "      <td>Sunday Bada</td>\n",
       "      <td>Male</td>\n",
       "      <td>1969-06-22</td>\n",
       "      <td>188.0</td>\n",
       "      <td>79</td>\n",
       "      <td>Nigeria</td>\n",
       "      <td>NGR</td>\n",
       "      <td>Sunday Bada was a top Nigerian one-lap runner ...</td>\n",
       "      <td>Listed in Olympians Who Won a Medal at the Wor...</td>\n",
       "      <td>1969-06</td>\n",
       "      <td>1969</td>\n",
       "    </tr>\n",
       "  </tbody>\n",
       "</table>\n",
       "<p>103673 rows × 12 columns</p>\n",
       "</div>"
      ],
      "text/plain": [
       "        athlete_id                name     sex       born  height weight  \\\n",
       "0            65649       Ivanka Bonova  Female 1949-04-04   166.0     55   \n",
       "1           112510   Nataliya Uryadova  Female 1977-03-15   184.0     70   \n",
       "2           114973  Essa Ismail Rashed    Male 1986-12-14   165.0     55   \n",
       "6           133041    Vincent Riendeau    Male 1996-12-13   178.0     68   \n",
       "7           110425         Tanja Morel  Female 1975-10-04   164.0     58   \n",
       "...            ...                 ...     ...        ...     ...    ...   \n",
       "155854       26283  Muhaisin Al-Jamaan    Male 1966-04-06   175.0     62   \n",
       "155856       23748         Todd Makler    Male 1946-01-08   183.0     75   \n",
       "155857       58581        Géza Hollósi    Male 1938-05-02   175.0     79   \n",
       "155859       69900    Alexander Thieme    Male 1954-01-13   187.0     84   \n",
       "155860       74003         Sunday Bada    Male 1969-06-22   188.0     79   \n",
       "\n",
       "                         country country_noc  \\\n",
       "0                       Bulgaria         BUL   \n",
       "1             Russian Federation         RUS   \n",
       "2                          Qatar         QAT   \n",
       "6                         Canada         CAN   \n",
       "7                    Switzerland         SUI   \n",
       "...                          ...         ...   \n",
       "155854   Kingdom of Saudi Arabia         KSA   \n",
       "155856             United States         USA   \n",
       "155857                   Hungary         HUN   \n",
       "155859              East Germany         GDR   \n",
       "155860                   Nigeria         NGR   \n",
       "\n",
       "                                              description  \\\n",
       "0                      Personal Best: 400 – 53.54 (1980).   \n",
       "1                                                     NaN   \n",
       "2                 Personal Best: 10000 – 27:20.97 (2006).   \n",
       "6                                                     NaN   \n",
       "7                                                     NaN   \n",
       "...                                                   ...   \n",
       "155854                                                NaN   \n",
       "155856  Todd Makler grew up in suburban Philadelphia, ...   \n",
       "155857  Géza Hollósi had the following finishes at maj...   \n",
       "155859  East German Sprinter Alexander Thieme reached ...   \n",
       "155860  Sunday Bada was a top Nigerian one-lap runner ...   \n",
       "\n",
       "                                            special_notes born_period  year  \n",
       "0                                                     NaN     1949-04  1949  \n",
       "1       Listed in Olympians Who Won a Medal at the Eur...     1977-03  1977  \n",
       "2       Listed in Olympians Who Won a Medal at the Asi...     1986-12  1986  \n",
       "6       Listed in Olympians Who Won a Medal at the Sum...     1996-12  1996  \n",
       "7       Listed in Olympians Who Won a Medal at the Eur...     1975-10  1975  \n",
       "...                                                   ...         ...   ...  \n",
       "155854  Listed in Olympians Who Won a Medal at the Asi...     1966-04  1966  \n",
       "155856   Brother of Brooke Makler Son of Paul Makler, Sr.     1946-01  1946  \n",
       "155857                                                NaN     1938-05  1938  \n",
       "155859  Listed in Olympians Who Won a Medal at the Eur...     1954-01  1954  \n",
       "155860  Listed in Olympians Who Won a Medal at the Wor...     1969-06  1969  \n",
       "\n",
       "[103673 rows x 12 columns]"
      ]
     },
     "execution_count": 328,
     "metadata": {},
     "output_type": "execute_result"
    }
   ],
   "source": [
    "# out=data[(data['amt']>lower) & (data['amt']<upper)]\n",
    "# outlier=data[(data['amt']<lower)| (data['amt']>upper)]\n",
    "out=df[(df['height'] > lower) & (df['height'] < upper)]\n",
    "out"
   ]
  },
  {
   "cell_type": "code",
   "execution_count": 329,
   "id": "78ff3a41-cdb2-4edf-ab96-3b56dd2a8093",
   "metadata": {},
   "outputs": [],
   "source": [
    "## now at this point cleaned data in out dataframe --> out"
   ]
  },
  {
   "cell_type": "code",
   "execution_count": 295,
   "id": "80468528-fd40-4ae9-8667-dd5db5e348f5",
   "metadata": {},
   "outputs": [
    {
     "data": {
      "image/png": "[encoded data removed]",
      "text/plain": [
       "<Figure size 1000x400 with 1 Axes>"
      ]
     },
     "metadata": {},
     "output_type": "display_data"
    },
    {
     "data": {
      "image/png": "[encoded data removed]",
      "text/plain": [
       "<Figure size 1000x400 with 1 Axes>"
      ]
     },
     "metadata": {},
     "output_type": "display_data"
    }
   ],
   "source": [
    "for column in out.columns:\n",
    "    if df[column].dtype in ['int64', 'float64']:\n",
    "        plt.figure(figsize=(10, 4))\n",
    "        sns.boxplot(x=out[column])\n",
    "        plt.title(f'Box Plot for {column}')\n",
    "        plt.show()"
   ]
  },
  {
   "cell_type": "code",
   "execution_count": 331,
   "id": "5c40fc50-c2a1-4252-aa65-b9a2d5ad2d26",
   "metadata": {},
   "outputs": [
    {
     "data": {
      "text/plain": [
       "Index(['athlete_id', 'name', 'sex', 'born', 'height', 'weight', 'country',\n",
       "       'country_noc', 'description', 'special_notes', 'born_period', 'year'],\n",
       "      dtype='object')"
      ]
     },
     "execution_count": 331,
     "metadata": {},
     "output_type": "execute_result"
    }
   ],
   "source": [
    "out.columns"
   ]
  },
  {
   "cell_type": "code",
   "execution_count": 333,
   "id": "af197f40-cf22-44c0-8815-2eb99f46ed8c",
   "metadata": {},
   "outputs": [
    {
     "data": {
      "image/png": "[encoded data removed]",
      "text/plain": [
       "<Figure size 1200x600 with 1 Axes>"
      ]
     },
     "metadata": {},
     "output_type": "display_data"
    }
   ],
   "source": [
    "# Country Analysis\n",
    "plt.figure(figsize=(12, 6))\n",
    "top_countries = df['country'].value_counts().head(10)\n",
    "sns.barplot(x=top_countries.index, y=top_countries.values)\n",
    "plt.title('Top 10 Countries with Most Athletes')\n",
    "plt.xticks(rotation=45)\n",
    "plt.show()\n"
   ]
  },
  {
   "cell_type": "code",
   "execution_count": 336,
   "id": "ffe66421-28d0-4aa6-b251-bab95f244ed4",
   "metadata": {},
   "outputs": [
    {
     "data": {
      "image/png": "[encoded data removed]",
      "text/plain": [
       "<Figure size 1200x600 with 1 Axes>"
      ]
     },
     "metadata": {},
     "output_type": "display_data"
    }
   ],
   "source": [
    "\n",
    "# Height and Weight Analysis\n",
    "plt.figure(figsize=(12, 6))\n",
    "sns.histplot(df['height'], kde=True, bins=30)\n",
    "plt.title('Distribution of Height')\n",
    "plt.show()"
   ]
  },
  {
   "cell_type": "code",
   "execution_count": null,
   "id": "0ce2384d-0ede-49ea-a242-2c508037d4a0",
   "metadata": {},
   "outputs": [],
   "source": []
  }
 ],
 "metadata": {
  "kernelspec": {
   "display_name": "Python 3 (ipykernel)",
   "language": "python",
   "name": "python3"
  },
  "language_info": {
   "codemirror_mode": {
    "name": "ipython",
    "version": 3
   },
   "file_extension": ".py",
   "mimetype": "text/x-python",
   "name": "python",
   "nbconvert_exporter": "python",
   "pygments_lexer": "ipython3",
   "version": "3.10.12"
  }
 },
 "nbformat": 4,
 "nbformat_minor": 5
}
